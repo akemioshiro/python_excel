{
  "nbformat": 4,
  "nbformat_minor": 0,
  "metadata": {
    "colab": {
      "name": "PythonExcel.ipynb",
      "provenance": [],
      "authorship_tag": "ABX9TyOr2tBNpCSXdW8U7OqyNReP",
      "include_colab_link": true
    },
    "kernelspec": {
      "name": "python3",
      "display_name": "Python 3"
    }
  },
  "cells": [
    {
      "cell_type": "markdown",
      "metadata": {
        "id": "view-in-github",
        "colab_type": "text"
      },
      "source": [
        "<a href=\"https://colab.research.google.com/github/akemioshiro/python_excel/blob/master/PythonExcel.ipynb\" target=\"_parent\"><img src=\"https://colab.research.google.com/assets/colab-badge.svg\" alt=\"Open In Colab\"/></a>"
      ]
    },
    {
      "cell_type": "code",
      "metadata": {
        "id": "lidOJR5MEnXR",
        "colab_type": "code",
        "colab": {}
      },
      "source": [
        "import numpy as np"
      ],
      "execution_count": 0,
      "outputs": []
    },
    {
      "cell_type": "code",
      "metadata": {
        "id": "Spa0ejkqFEHQ",
        "colab_type": "code",
        "outputId": "65070e8d-8053-4498-fad5-f72f2918a171",
        "colab": {
          "base_uri": "https://localhost:8080/",
          "height": 35
        }
      },
      "source": [
        "np.sum([1,1])"
      ],
      "execution_count": 0,
      "outputs": [
        {
          "output_type": "execute_result",
          "data": {
            "text/plain": [
              "2"
            ]
          },
          "metadata": {
            "tags": []
          },
          "execution_count": 6
        }
      ]
    },
    {
      "cell_type": "code",
      "metadata": {
        "id": "E7oKu0aQF_x8",
        "colab_type": "code",
        "colab": {}
      },
      "source": [
        "import pandas as pd"
      ],
      "execution_count": 0,
      "outputs": []
    },
    {
      "cell_type": "code",
      "metadata": {
        "id": "o01GtAbGGhFL",
        "colab_type": "code",
        "outputId": "8b40d7ee-b829-47a4-aa3e-5ecec8ec33f1",
        "colab": {
          "resources": {
            "http://localhost:8080/nbextensions/google.colab/files.js": {
              "data": "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",
              "ok": true,
              "headers": [
                [
                  "content-type",
                  "application/javascript"
                ]
              ],
              "status": 200,
              "status_text": ""
            }
          },
          "base_uri": "https://localhost:8080/",
          "height": 75
        }
      },
      "source": [
        "from google.colab import files \n",
        "upload = files.upload()"
      ],
      "execution_count": 0,
      "outputs": [
        {
          "output_type": "display_data",
          "data": {
            "text/html": [
              "\n",
              "     <input type=\"file\" id=\"files-beff30fe-3ee1-45cb-b643-2524933d1a60\" name=\"files[]\" multiple disabled />\n",
              "     <output id=\"result-beff30fe-3ee1-45cb-b643-2524933d1a60\">\n",
              "      Upload widget is only available when the cell has been executed in the\n",
              "      current browser session. Please rerun this cell to enable.\n",
              "      </output>\n",
              "      <script src=\"/nbextensions/google.colab/files.js\"></script> "
            ],
            "text/plain": [
              "<IPython.core.display.HTML object>"
            ]
          },
          "metadata": {
            "tags": []
          }
        },
        {
          "output_type": "stream",
          "text": [
            "Saving salarios.xlsx to salarios.xlsx\n"
          ],
          "name": "stdout"
        }
      ]
    },
    {
      "cell_type": "code",
      "metadata": {
        "id": "yx_FFth7G8uC",
        "colab_type": "code",
        "outputId": "67372cb4-19d4-42b6-e92f-0d94f335b9ac",
        "colab": {
          "base_uri": "https://localhost:8080/",
          "height": 260
        }
      },
      "source": [
        "dados = pd.read_excel('salarios.xlsx')\n",
        "print(dados)"
      ],
      "execution_count": 0,
      "outputs": [
        {
          "output_type": "stream",
          "text": [
            "         Id                            job  ... discount_salary  total_salary\n",
            "0     28316    PROFESSOR EDUCACAO BASICA I  ...             0.0     2976200.0\n",
            "1     28317    PROFESSOR EDUCACAO BASICA I  ...             0.0     1991060.0\n",
            "2     28319   PROFESSOR EDUCACAO BASICA II  ...             0.0     1496730.0\n",
            "3     28320   PROFESSOR EDUCACAO BASICA II  ...             0.0     2091770.0\n",
            "4     28321   PROFESSOR EDUCACAO BASICA II  ...             0.0     1493070.0\n",
            "...     ...                            ...  ...             ...           ...\n",
            "9994  59325   PROFESSOR EDUCACAO BASICA II  ...             0.0     4353740.0\n",
            "9995  59328   PROFESSOR EDUCACAO BASICA II  ...             0.0     1293770.0\n",
            "9996  59330  AGENTE DE ORGANIZACAO ESCOLAR  ...             0.0     1106230.0\n",
            "9997  59331   AGENTE DE SERVICOS ESCOLARES  ...             0.0     1060910.0\n",
            "9998  59340    PROFESSOR EDUCACAO BASICA I  ...             0.0     1133430.0\n",
            "\n",
            "[9999 rows x 10 columns]\n"
          ],
          "name": "stdout"
        }
      ]
    },
    {
      "cell_type": "code",
      "metadata": {
        "id": "8MXoC9WNNk-t",
        "colab_type": "code",
        "outputId": "aed03d4c-d68b-4fd2-99d0-838134e1aed3",
        "colab": {
          "base_uri": "https://localhost:8080/",
          "height": 467
        }
      },
      "source": [
        "pd.read_excel('salarios.xlsx', sheet_name='salario_mensal_02')"
      ],
      "execution_count": 0,
      "outputs": [
        {
          "output_type": "execute_result",
          "data": {
            "text/html": [
              "<div>\n",
              "<style scoped>\n",
              "    .dataframe tbody tr th:only-of-type {\n",
              "        vertical-align: middle;\n",
              "    }\n",
              "\n",
              "    .dataframe tbody tr th {\n",
              "        vertical-align: top;\n",
              "    }\n",
              "\n",
              "    .dataframe thead th {\n",
              "        text-align: right;\n",
              "    }\n",
              "</style>\n",
              "<table border=\"1\" class=\"dataframe\">\n",
              "  <thead>\n",
              "    <tr style=\"text-align: right;\">\n",
              "      <th></th>\n",
              "      <th>Id</th>\n",
              "      <th>job</th>\n",
              "      <th>sector</th>\n",
              "      <th>Month_salary</th>\n",
              "      <th>13_salary</th>\n",
              "      <th>eventual_salary</th>\n",
              "      <th>indemnity</th>\n",
              "      <th>extra_salary</th>\n",
              "      <th>discount_salary</th>\n",
              "      <th>total_salary</th>\n",
              "      <th>Unnamed: 10</th>\n",
              "    </tr>\n",
              "  </thead>\n",
              "  <tbody>\n",
              "    <tr>\n",
              "      <th>0</th>\n",
              "      <td>1.0</td>\n",
              "      <td>OFICIAL ADMINISTRATIVO</td>\n",
              "      <td>DETRAN</td>\n",
              "      <td>2315810.0</td>\n",
              "      <td>0.0</td>\n",
              "      <td>0.0</td>\n",
              "      <td>0.0</td>\n",
              "      <td>73850.0</td>\n",
              "      <td>0.0</td>\n",
              "      <td>1929340.0</td>\n",
              "      <td>NaN</td>\n",
              "    </tr>\n",
              "    <tr>\n",
              "      <th>1</th>\n",
              "      <td>2.0</td>\n",
              "      <td>SD 2C PM</td>\n",
              "      <td>PM</td>\n",
              "      <td>3034050.0</td>\n",
              "      <td>0.0</td>\n",
              "      <td>0.0</td>\n",
              "      <td>0.0</td>\n",
              "      <td>651820.0</td>\n",
              "      <td>0.0</td>\n",
              "      <td>2265960.0</td>\n",
              "      <td>NaN</td>\n",
              "    </tr>\n",
              "    <tr>\n",
              "      <th>2</th>\n",
              "      <td>3.0</td>\n",
              "      <td>1TEN  PM</td>\n",
              "      <td>PM</td>\n",
              "      <td>8990980.0</td>\n",
              "      <td>0.0</td>\n",
              "      <td>0.0</td>\n",
              "      <td>0.0</td>\n",
              "      <td>626750.0</td>\n",
              "      <td>0.0</td>\n",
              "      <td>6933040.0</td>\n",
              "      <td>NaN</td>\n",
              "    </tr>\n",
              "    <tr>\n",
              "      <th>3</th>\n",
              "      <td>4.0</td>\n",
              "      <td>MAJ   PM</td>\n",
              "      <td>SPPREV</td>\n",
              "      <td>13591020.0</td>\n",
              "      <td>0.0</td>\n",
              "      <td>0.0</td>\n",
              "      <td>0.0</td>\n",
              "      <td>0.0</td>\n",
              "      <td>0.0</td>\n",
              "      <td>10568360.0</td>\n",
              "      <td>NaN</td>\n",
              "    </tr>\n",
              "    <tr>\n",
              "      <th>4</th>\n",
              "      <td>5.0</td>\n",
              "      <td>AG.TEC. DE ASSIT. A SAUDE</td>\n",
              "      <td>HCFMUSP</td>\n",
              "      <td>4203670.0</td>\n",
              "      <td>0.0</td>\n",
              "      <td>0.0</td>\n",
              "      <td>0.0</td>\n",
              "      <td>0.0</td>\n",
              "      <td>0.0</td>\n",
              "      <td>3561880.0</td>\n",
              "      <td>NaN</td>\n",
              "    </tr>\n",
              "    <tr>\n",
              "      <th>...</th>\n",
              "      <td>...</td>\n",
              "      <td>...</td>\n",
              "      <td>...</td>\n",
              "      <td>...</td>\n",
              "      <td>...</td>\n",
              "      <td>...</td>\n",
              "      <td>...</td>\n",
              "      <td>...</td>\n",
              "      <td>...</td>\n",
              "      <td>...</td>\n",
              "      <td>...</td>\n",
              "    </tr>\n",
              "    <tr>\n",
              "      <th>1039040</th>\n",
              "      <td>NaN</td>\n",
              "      <td>NaN</td>\n",
              "      <td>NaN</td>\n",
              "      <td>NaN</td>\n",
              "      <td>NaN</td>\n",
              "      <td>NaN</td>\n",
              "      <td>NaN</td>\n",
              "      <td>NaN</td>\n",
              "      <td>NaN</td>\n",
              "      <td>NaN</td>\n",
              "      <td>NaN</td>\n",
              "    </tr>\n",
              "    <tr>\n",
              "      <th>1039041</th>\n",
              "      <td>NaN</td>\n",
              "      <td>NaN</td>\n",
              "      <td>NaN</td>\n",
              "      <td>NaN</td>\n",
              "      <td>NaN</td>\n",
              "      <td>NaN</td>\n",
              "      <td>NaN</td>\n",
              "      <td>NaN</td>\n",
              "      <td>NaN</td>\n",
              "      <td>NaN</td>\n",
              "      <td>NaN</td>\n",
              "    </tr>\n",
              "    <tr>\n",
              "      <th>1039042</th>\n",
              "      <td>NaN</td>\n",
              "      <td>NaN</td>\n",
              "      <td>NaN</td>\n",
              "      <td>NaN</td>\n",
              "      <td>NaN</td>\n",
              "      <td>NaN</td>\n",
              "      <td>NaN</td>\n",
              "      <td>NaN</td>\n",
              "      <td>NaN</td>\n",
              "      <td>NaN</td>\n",
              "      <td>NaN</td>\n",
              "    </tr>\n",
              "    <tr>\n",
              "      <th>1039043</th>\n",
              "      <td>NaN</td>\n",
              "      <td>NaN</td>\n",
              "      <td>NaN</td>\n",
              "      <td>NaN</td>\n",
              "      <td>NaN</td>\n",
              "      <td>NaN</td>\n",
              "      <td>NaN</td>\n",
              "      <td>NaN</td>\n",
              "      <td>NaN</td>\n",
              "      <td>NaN</td>\n",
              "      <td>NaN</td>\n",
              "    </tr>\n",
              "    <tr>\n",
              "      <th>1039044</th>\n",
              "      <td>NaN</td>\n",
              "      <td>NaN</td>\n",
              "      <td>NaN</td>\n",
              "      <td>NaN</td>\n",
              "      <td>NaN</td>\n",
              "      <td>NaN</td>\n",
              "      <td>NaN</td>\n",
              "      <td>NaN</td>\n",
              "      <td>NaN</td>\n",
              "      <td>NaN</td>\n",
              "      <td>4629740.0</td>\n",
              "    </tr>\n",
              "  </tbody>\n",
              "</table>\n",
              "<p>1039045 rows × 11 columns</p>\n",
              "</div>"
            ],
            "text/plain": [
              "          Id                        job  ... total_salary  Unnamed: 10\n",
              "0        1.0     OFICIAL ADMINISTRATIVO  ...    1929340.0          NaN\n",
              "1        2.0                   SD 2C PM  ...    2265960.0          NaN\n",
              "2        3.0                   1TEN  PM  ...    6933040.0          NaN\n",
              "3        4.0                   MAJ   PM  ...   10568360.0          NaN\n",
              "4        5.0  AG.TEC. DE ASSIT. A SAUDE  ...    3561880.0          NaN\n",
              "...      ...                        ...  ...          ...          ...\n",
              "1039040  NaN                        NaN  ...          NaN          NaN\n",
              "1039041  NaN                        NaN  ...          NaN          NaN\n",
              "1039042  NaN                        NaN  ...          NaN          NaN\n",
              "1039043  NaN                        NaN  ...          NaN          NaN\n",
              "1039044  NaN                        NaN  ...          NaN    4629740.0\n",
              "\n",
              "[1039045 rows x 11 columns]"
            ]
          },
          "metadata": {
            "tags": []
          },
          "execution_count": 16
        }
      ]
    },
    {
      "cell_type": "code",
      "metadata": {
        "id": "gx9cSK3Ob5sr",
        "colab_type": "code",
        "colab": {}
      },
      "source": [
        ""
      ],
      "execution_count": 0,
      "outputs": []
    },
    {
      "cell_type": "code",
      "metadata": {
        "id": "UXXGd8TnOmx-",
        "colab_type": "code",
        "outputId": "00156c21-f847-44e5-a24a-a93c57f6da2e",
        "colab": {
          "base_uri": "https://localhost:8080/",
          "height": 260
        }
      },
      "source": [
        "new_sheet = pd.read_excel('salarios.xlsx', sheet_name='salario_mensal_02')\n",
        "print(new_sheet)"
      ],
      "execution_count": 0,
      "outputs": [
        {
          "output_type": "stream",
          "text": [
            "          Id                        job  ... total_salary  Unnamed: 10\n",
            "0        1.0     OFICIAL ADMINISTRATIVO  ...    1929340.0          NaN\n",
            "1        2.0                   SD 2C PM  ...    2265960.0          NaN\n",
            "2        3.0                   1TEN  PM  ...    6933040.0          NaN\n",
            "3        4.0                   MAJ   PM  ...   10568360.0          NaN\n",
            "4        5.0  AG.TEC. DE ASSIT. A SAUDE  ...    3561880.0          NaN\n",
            "...      ...                        ...  ...          ...          ...\n",
            "1039040  NaN                        NaN  ...          NaN          NaN\n",
            "1039041  NaN                        NaN  ...          NaN          NaN\n",
            "1039042  NaN                        NaN  ...          NaN          NaN\n",
            "1039043  NaN                        NaN  ...          NaN          NaN\n",
            "1039044  NaN                        NaN  ...          NaN    4629740.0\n",
            "\n",
            "[1039045 rows x 11 columns]\n"
          ],
          "name": "stdout"
        }
      ]
    },
    {
      "cell_type": "code",
      "metadata": {
        "id": "bpcuVOMiPBcD",
        "colab_type": "code",
        "outputId": "1d369039-5e4d-4611-8f9e-d61855b1d7e5",
        "colab": {
          "base_uri": "https://localhost:8080/",
          "height": 277
        }
      },
      "source": [
        "indice = pd.read_excel('salarios.xlsx', sheet_name='salario_mensal_01', index_col=0)\n",
        "print(indice)"
      ],
      "execution_count": 0,
      "outputs": [
        {
          "output_type": "stream",
          "text": [
            "                                 job    sector  ...  discount_salary  total_salary\n",
            "Id                                              ...                               \n",
            "28316    PROFESSOR EDUCACAO BASICA I  EDUCACAO  ...              0.0     2976200.0\n",
            "28317    PROFESSOR EDUCACAO BASICA I  EDUCACAO  ...              0.0     1991060.0\n",
            "28319   PROFESSOR EDUCACAO BASICA II  EDUCACAO  ...              0.0     1496730.0\n",
            "28320   PROFESSOR EDUCACAO BASICA II  EDUCACAO  ...              0.0     2091770.0\n",
            "28321   PROFESSOR EDUCACAO BASICA II  EDUCACAO  ...              0.0     1493070.0\n",
            "...                              ...       ...  ...              ...           ...\n",
            "59325   PROFESSOR EDUCACAO BASICA II  EDUCACAO  ...              0.0     4353740.0\n",
            "59328   PROFESSOR EDUCACAO BASICA II  EDUCACAO  ...              0.0     1293770.0\n",
            "59330  AGENTE DE ORGANIZACAO ESCOLAR  EDUCACAO  ...              0.0     1106230.0\n",
            "59331   AGENTE DE SERVICOS ESCOLARES  EDUCACAO  ...              0.0     1060910.0\n",
            "59340    PROFESSOR EDUCACAO BASICA I  EDUCACAO  ...              0.0     1133430.0\n",
            "\n",
            "[9999 rows x 9 columns]\n"
          ],
          "name": "stdout"
        }
      ]
    },
    {
      "cell_type": "code",
      "metadata": {
        "id": "xZnAbbx9QrZn",
        "colab_type": "code",
        "outputId": "c99e5dd7-a2db-45c9-dc90-968c7397822e",
        "colab": {
          "base_uri": "https://localhost:8080/",
          "height": 277
        }
      },
      "source": [
        "skip = pd.read_excel('salarios.xlsx', sheet_name='salario_mensal_01', header=None, skiprows=10, index_col=0)\n",
        "print(skip)"
      ],
      "execution_count": 0,
      "outputs": [
        {
          "output_type": "stream",
          "text": [
            "                                   1         2  ...    8          9\n",
            "0                                               ...                \n",
            "28326   PROFESSOR EDUCACAO BASICA II  EDUCACAO  ...  0.0  2645220.0\n",
            "28327   PROFESSOR EDUCACAO BASICA II  EDUCACAO  ...  0.0   875420.0\n",
            "28328   PROFESSOR EDUCACAO BASICA II  EDUCACAO  ...  0.0  2656070.0\n",
            "28329    PROFESSOR EDUCACAO BASICA I  EDUCACAO  ...  0.0  2246300.0\n",
            "28330    PROFESSOR EDUCACAO BASICA I  EDUCACAO  ...  0.0  2252850.0\n",
            "...                              ...       ...  ...  ...        ...\n",
            "59325   PROFESSOR EDUCACAO BASICA II  EDUCACAO  ...  0.0  4353740.0\n",
            "59328   PROFESSOR EDUCACAO BASICA II  EDUCACAO  ...  0.0  1293770.0\n",
            "59330  AGENTE DE ORGANIZACAO ESCOLAR  EDUCACAO  ...  0.0  1106230.0\n",
            "59331   AGENTE DE SERVICOS ESCOLARES  EDUCACAO  ...  0.0  1060910.0\n",
            "59340    PROFESSOR EDUCACAO BASICA I  EDUCACAO  ...  0.0  1133430.0\n",
            "\n",
            "[9990 rows x 9 columns]\n"
          ],
          "name": "stdout"
        }
      ]
    },
    {
      "cell_type": "code",
      "metadata": {
        "id": "iVoCJoB8VMfG",
        "colab_type": "code",
        "outputId": "36bd1e1e-4969-47e3-a212-189cf26a948a",
        "colab": {
          "base_uri": "https://localhost:8080/",
          "height": 260
        }
      },
      "source": [
        "col = pd.read_excel('salarios.xlsx', sheet_name='salario_mensal_01', header=None, skiprows=10, usecols='A,D')\n",
        "print(col)"
      ],
      "execution_count": 0,
      "outputs": [
        {
          "output_type": "stream",
          "text": [
            "          0        3\n",
            "0     28326  5040180\n",
            "1     28327  1156240\n",
            "2     28328  3017750\n",
            "3     28329  2595850\n",
            "4     28330  2973640\n",
            "...     ...      ...\n",
            "9985  59325  3023580\n",
            "9986  59328  2065810\n",
            "9987  59330  1104000\n",
            "9988  59331  1412870\n",
            "9989  59340   714680\n",
            "\n",
            "[9990 rows x 2 columns]\n"
          ],
          "name": "stdout"
        }
      ]
    },
    {
      "cell_type": "code",
      "metadata": {
        "id": "IZU4xBJnb7gs",
        "colab_type": "code",
        "colab": {}
      },
      "source": [
        "from google.colab import drive"
      ],
      "execution_count": 0,
      "outputs": []
    },
    {
      "cell_type": "code",
      "metadata": {
        "id": "85ST2-QMcBgC",
        "colab_type": "code",
        "outputId": "309f491e-1e1e-4da4-fad2-bd0db7516a78",
        "colab": {
          "base_uri": "https://localhost:8080/",
          "height": 124
        }
      },
      "source": [
        "drive.mount('/content/drive')"
      ],
      "execution_count": 0,
      "outputs": [
        {
          "output_type": "stream",
          "text": [
            "Go to this URL in a browser: https://accounts.google.com/o/oauth2/auth?client_id=947318989803-6bn6qk8qdgf4n4g3pfee6491hc0brc4i.apps.googleusercontent.com&redirect_uri=urn%3aietf%3awg%3aoauth%3a2.0%3aoob&response_type=code&scope=email%20https%3a%2f%2fwww.googleapis.com%2fauth%2fdocs.test%20https%3a%2f%2fwww.googleapis.com%2fauth%2fdrive%20https%3a%2f%2fwww.googleapis.com%2fauth%2fdrive.photos.readonly%20https%3a%2f%2fwww.googleapis.com%2fauth%2fpeopleapi.readonly\n",
            "\n",
            "Enter your authorization code:\n",
            "··········\n",
            "Mounted at /content/drive\n"
          ],
          "name": "stdout"
        }
      ]
    },
    {
      "cell_type": "code",
      "metadata": {
        "id": "vbfSDqHwcHUR",
        "colab_type": "code",
        "outputId": "22cb6222-1620-4116-d163-2976da5cbb8d",
        "colab": {
          "base_uri": "https://localhost:8080/",
          "height": 1000
        }
      },
      "source": [
        "!ls '/content/drive/My Drive'"
      ],
      "execution_count": 0,
      "outputs": [
        {
          "output_type": "stream",
          "text": [
            "'13-12-2015-TI P&D.gdoc'\n",
            " 1556204541Ebook_-_Ferramentas_Essncias_para_Alavancar_suas_Anlises.pdf\n",
            " 57249PMV.pdf\n",
            " 7000-Canais-IPTV.m3u\n",
            "'Apostila POWER BI.pdf'\n",
            " Atacama\n",
            " AvalieApp.gscript\n",
            "'Avalie o App (Responses).gsheet'\n",
            " caelum-java-objetos-fj11.pdf\n",
            " caelum-java-web-fj21.pdf\n",
            " caelum-python-objetos-py14.pdf\n",
            "'Ciência de dados com R.pdf'\n",
            "'circulo das competencias.gslides'\n",
            "'Colab Notebooks'\n",
            "'Comunicacao Nao-Violenta - Marshall B. Rosenberg.pdf.pdf'\n",
            " contacts.vcf\n",
            "'Controle de Acesso.zip'\n",
            "'Cópia de PATRICIA OSHIRO.pdf'\n",
            " CostaDoSauipe.zip\n",
            "'CURSO CAELUM'\n",
            "'CURSO K19'\n",
            " CV_PATRICIA_AKEMI_OSHIRO.gdoc\n",
            " Desafio\n",
            " desafio.zip\n",
            "'Despesas Apto.gsheet'\n",
            " docs22.docx\n",
            "'documentos (1).zip'\n",
            " documentos.zip\n",
            " Ebook_Python_basico.zip\n",
            "'Escopo do Projeto.gdoc'\n",
            "'Estatística Básica-Luiz Gonzaga Morettin.pdf'\n",
            "'Fotos Uyuni'\n",
            " front-end-com-vuejs-da-teoria-a-pratica-sem-complicacoes.pdf\n",
            " gptw\n",
            " gptw-auth-api.zip\n",
            " gptw-message-api.zip\n",
            "'gptw-plano-acao-api (1).zip'\n",
            " gptw-plano-acao-api.zip\n",
            "'GPTW RAG - DASA 2018_COORDENAÇÃO ADMINISTRAÇÃO-(425).pptx'\n",
            "'Grupos Whats2.pdf'\n",
            "'I9 Seu Produto.gscript'\n",
            "'I9 Seu Produto.gsheet'\n",
            " infos.docx\n",
            " insurance.xlsx\n",
            "'Joel Grus - Data Science do zero_ Primeiras regras com o Python-Alta Books.pdf'\n",
            "'Link dos ambientes.gdoc'\n",
            "'links ambientes.txt'\n",
            "'Lista IPTV Setembro DoutorInformatica.m3u'\n",
            " machine-learning-introducao-a-classificacao.pdf\n",
            "'Mapeamento dos chamados.docx'\n",
            "'Mastering Microsoft Power BI.pdf'\n",
            " Mip.zip\n",
            " monthly_salary_brazil.csv\n",
            " mpn-multi-store-web.zip\n",
            "'new 3.txt'\n",
            " npm.rar\n",
            " openvpn-install-2.4.8-I602-Win10.zip\n",
            "'Orçamento de gastos apt.gsheet'\n",
            "'PDI 2020 - PATRICIA AKEMI OSHIRO (1).gslides'\n",
            "'PDI 2020 - PATRICIA AKEMI OSHIRO.gslides'\n",
            "'PDI 2020 - PATRICIA AKEMI OSHIRO.pptx'\n",
            "'Planejamento Viagem 2018.gsheet'\n",
            "'PWD dos ambientes.gdoc'\n",
            " python-escreva-seus-primeiros-programas.pdf\n",
            "'relatorios para powerbi.zip'\n",
            "'roteiro 2018.gdoc'\n",
            " sample-node-api.zip\n",
            "'Sincronização Vitrine.gsheet'\n",
            " TesteDBFConnection.zip\n",
            " TOTVS\n",
            " UnidasPesquisas.zip\n",
            "'Viagem 2018'\n"
          ],
          "name": "stdout"
        }
      ]
    },
    {
      "cell_type": "code",
      "metadata": {
        "id": "abzf8s3EccxA",
        "colab_type": "code",
        "colab": {}
      },
      "source": [
        "xlsx = pd.ExcelFile('/content/drive/My Drive/insurance.xlsx')"
      ],
      "execution_count": 0,
      "outputs": []
    },
    {
      "cell_type": "code",
      "metadata": {
        "id": "9nYvCLG0fIhQ",
        "colab_type": "code",
        "outputId": "3fb08c9c-203e-49f8-9e10-8d1a5cf71081",
        "colab": {
          "base_uri": "https://localhost:8080/",
          "height": 35
        }
      },
      "source": [
        "xlsx.sheet_names"
      ],
      "execution_count": 0,
      "outputs": [
        {
          "output_type": "execute_result",
          "data": {
            "text/plain": [
              "['insurance', 'insurance2']"
            ]
          },
          "metadata": {
            "tags": []
          },
          "execution_count": 37
        }
      ]
    },
    {
      "cell_type": "code",
      "metadata": {
        "id": "bwWRjycjfNco",
        "colab_type": "code",
        "colab": {}
      },
      "source": [
        "df1 = xlsx.parse('insurance')"
      ],
      "execution_count": 0,
      "outputs": []
    },
    {
      "cell_type": "code",
      "metadata": {
        "id": "Amo0u1GfzG89",
        "colab_type": "code",
        "outputId": "1744e31c-771b-4735-aa72-d781cd733969",
        "colab": {
          "base_uri": "https://localhost:8080/",
          "height": 141
        }
      },
      "source": [
        "df1.head(3)"
      ],
      "execution_count": 0,
      "outputs": [
        {
          "output_type": "execute_result",
          "data": {
            "text/html": [
              "<div>\n",
              "<style scoped>\n",
              "    .dataframe tbody tr th:only-of-type {\n",
              "        vertical-align: middle;\n",
              "    }\n",
              "\n",
              "    .dataframe tbody tr th {\n",
              "        vertical-align: top;\n",
              "    }\n",
              "\n",
              "    .dataframe thead th {\n",
              "        text-align: right;\n",
              "    }\n",
              "</style>\n",
              "<table border=\"1\" class=\"dataframe\">\n",
              "  <thead>\n",
              "    <tr style=\"text-align: right;\">\n",
              "      <th></th>\n",
              "      <th>id</th>\n",
              "      <th>age</th>\n",
              "      <th>sex</th>\n",
              "      <th>bmi</th>\n",
              "      <th>children</th>\n",
              "      <th>smoker</th>\n",
              "      <th>region</th>\n",
              "      <th>charges</th>\n",
              "    </tr>\n",
              "  </thead>\n",
              "  <tbody>\n",
              "    <tr>\n",
              "      <th>0</th>\n",
              "      <td>1</td>\n",
              "      <td>19</td>\n",
              "      <td>female</td>\n",
              "      <td>27.90</td>\n",
              "      <td>0</td>\n",
              "      <td>yes</td>\n",
              "      <td>southwest</td>\n",
              "      <td>168849.24</td>\n",
              "    </tr>\n",
              "    <tr>\n",
              "      <th>1</th>\n",
              "      <td>2</td>\n",
              "      <td>18</td>\n",
              "      <td>male</td>\n",
              "      <td>33.77</td>\n",
              "      <td>1</td>\n",
              "      <td>no</td>\n",
              "      <td>southeast</td>\n",
              "      <td>172555.23</td>\n",
              "    </tr>\n",
              "    <tr>\n",
              "      <th>2</th>\n",
              "      <td>3</td>\n",
              "      <td>28</td>\n",
              "      <td>male</td>\n",
              "      <td>33.00</td>\n",
              "      <td>3</td>\n",
              "      <td>no</td>\n",
              "      <td>southeast</td>\n",
              "      <td>44494.62</td>\n",
              "    </tr>\n",
              "  </tbody>\n",
              "</table>\n",
              "</div>"
            ],
            "text/plain": [
              "   id  age     sex    bmi  children smoker     region    charges\n",
              "0   1   19  female  27.90         0    yes  southwest  168849.24\n",
              "1   2   18    male  33.77         1     no  southeast  172555.23\n",
              "2   3   28    male  33.00         3     no  southeast   44494.62"
            ]
          },
          "metadata": {
            "tags": []
          },
          "execution_count": 42
        }
      ]
    },
    {
      "cell_type": "code",
      "metadata": {
        "id": "y5bGsIBfzKlW",
        "colab_type": "code",
        "colab": {}
      },
      "source": [
        "df2  = xlsx.parse('insurance2')"
      ],
      "execution_count": 0,
      "outputs": []
    },
    {
      "cell_type": "code",
      "metadata": {
        "id": "hNOxkB_FztJ9",
        "colab_type": "code",
        "outputId": "3a5ad060-8fe4-4d1b-f458-9430da1ef2de",
        "colab": {
          "base_uri": "https://localhost:8080/",
          "height": 141
        }
      },
      "source": [
        "df2.head(3)"
      ],
      "execution_count": 0,
      "outputs": [
        {
          "output_type": "execute_result",
          "data": {
            "text/html": [
              "<div>\n",
              "<style scoped>\n",
              "    .dataframe tbody tr th:only-of-type {\n",
              "        vertical-align: middle;\n",
              "    }\n",
              "\n",
              "    .dataframe tbody tr th {\n",
              "        vertical-align: top;\n",
              "    }\n",
              "\n",
              "    .dataframe thead th {\n",
              "        text-align: right;\n",
              "    }\n",
              "</style>\n",
              "<table border=\"1\" class=\"dataframe\">\n",
              "  <thead>\n",
              "    <tr style=\"text-align: right;\">\n",
              "      <th></th>\n",
              "      <th>id</th>\n",
              "      <th>ID</th>\n",
              "      <th>country</th>\n",
              "    </tr>\n",
              "  </thead>\n",
              "  <tbody>\n",
              "    <tr>\n",
              "      <th>0</th>\n",
              "      <td>1</td>\n",
              "      <td>1</td>\n",
              "      <td>Brazil</td>\n",
              "    </tr>\n",
              "    <tr>\n",
              "      <th>1</th>\n",
              "      <td>2</td>\n",
              "      <td>2</td>\n",
              "      <td>Brazil</td>\n",
              "    </tr>\n",
              "    <tr>\n",
              "      <th>2</th>\n",
              "      <td>3</td>\n",
              "      <td>3</td>\n",
              "      <td>Brazil</td>\n",
              "    </tr>\n",
              "  </tbody>\n",
              "</table>\n",
              "</div>"
            ],
            "text/plain": [
              "   id  ID country\n",
              "0   1   1  Brazil\n",
              "1   2   2  Brazil\n",
              "2   3   3  Brazil"
            ]
          },
          "metadata": {
            "tags": []
          },
          "execution_count": 41
        }
      ]
    },
    {
      "cell_type": "code",
      "metadata": {
        "id": "SrR2Vfc1zxOp",
        "colab_type": "code",
        "outputId": "9676a8e0-4ec2-4cf5-cfa6-063402644a2f",
        "colab": {
          "base_uri": "https://localhost:8080/",
          "height": 202
        }
      },
      "source": [
        "df1.head()"
      ],
      "execution_count": 0,
      "outputs": [
        {
          "output_type": "execute_result",
          "data": {
            "text/html": [
              "<div>\n",
              "<style scoped>\n",
              "    .dataframe tbody tr th:only-of-type {\n",
              "        vertical-align: middle;\n",
              "    }\n",
              "\n",
              "    .dataframe tbody tr th {\n",
              "        vertical-align: top;\n",
              "    }\n",
              "\n",
              "    .dataframe thead th {\n",
              "        text-align: right;\n",
              "    }\n",
              "</style>\n",
              "<table border=\"1\" class=\"dataframe\">\n",
              "  <thead>\n",
              "    <tr style=\"text-align: right;\">\n",
              "      <th></th>\n",
              "      <th>id</th>\n",
              "      <th>age</th>\n",
              "      <th>sex</th>\n",
              "      <th>bmi</th>\n",
              "      <th>children</th>\n",
              "      <th>smoker</th>\n",
              "      <th>region</th>\n",
              "      <th>charges</th>\n",
              "    </tr>\n",
              "  </thead>\n",
              "  <tbody>\n",
              "    <tr>\n",
              "      <th>0</th>\n",
              "      <td>1</td>\n",
              "      <td>19</td>\n",
              "      <td>female</td>\n",
              "      <td>27.90</td>\n",
              "      <td>0</td>\n",
              "      <td>yes</td>\n",
              "      <td>southwest</td>\n",
              "      <td>168849.24</td>\n",
              "    </tr>\n",
              "    <tr>\n",
              "      <th>1</th>\n",
              "      <td>2</td>\n",
              "      <td>18</td>\n",
              "      <td>male</td>\n",
              "      <td>33.77</td>\n",
              "      <td>1</td>\n",
              "      <td>no</td>\n",
              "      <td>southeast</td>\n",
              "      <td>172555.23</td>\n",
              "    </tr>\n",
              "    <tr>\n",
              "      <th>2</th>\n",
              "      <td>3</td>\n",
              "      <td>28</td>\n",
              "      <td>male</td>\n",
              "      <td>33.00</td>\n",
              "      <td>3</td>\n",
              "      <td>no</td>\n",
              "      <td>southeast</td>\n",
              "      <td>44494.62</td>\n",
              "    </tr>\n",
              "    <tr>\n",
              "      <th>3</th>\n",
              "      <td>4</td>\n",
              "      <td>33</td>\n",
              "      <td>male</td>\n",
              "      <td>22705.00</td>\n",
              "      <td>0</td>\n",
              "      <td>no</td>\n",
              "      <td>northwest</td>\n",
              "      <td>21984470.61</td>\n",
              "    </tr>\n",
              "    <tr>\n",
              "      <th>4</th>\n",
              "      <td>5</td>\n",
              "      <td>32</td>\n",
              "      <td>male</td>\n",
              "      <td>28.88</td>\n",
              "      <td>0</td>\n",
              "      <td>no</td>\n",
              "      <td>northwest</td>\n",
              "      <td>386685.52</td>\n",
              "    </tr>\n",
              "  </tbody>\n",
              "</table>\n",
              "</div>"
            ],
            "text/plain": [
              "   id  age     sex       bmi  children smoker     region      charges\n",
              "0   1   19  female     27.90         0    yes  southwest    168849.24\n",
              "1   2   18    male     33.77         1     no  southeast    172555.23\n",
              "2   3   28    male     33.00         3     no  southeast     44494.62\n",
              "3   4   33    male  22705.00         0     no  northwest  21984470.61\n",
              "4   5   32    male     28.88         0     no  northwest    386685.52"
            ]
          },
          "metadata": {
            "tags": []
          },
          "execution_count": 43
        }
      ]
    },
    {
      "cell_type": "code",
      "metadata": {
        "id": "1kh9_Fmj0HyK",
        "colab_type": "code",
        "outputId": "1b2eb561-ee4d-4d92-f7e1-052352c514af",
        "colab": {
          "base_uri": "https://localhost:8080/",
          "height": 202
        }
      },
      "source": [
        "df1.tail()"
      ],
      "execution_count": 0,
      "outputs": [
        {
          "output_type": "execute_result",
          "data": {
            "text/html": [
              "<div>\n",
              "<style scoped>\n",
              "    .dataframe tbody tr th:only-of-type {\n",
              "        vertical-align: middle;\n",
              "    }\n",
              "\n",
              "    .dataframe tbody tr th {\n",
              "        vertical-align: top;\n",
              "    }\n",
              "\n",
              "    .dataframe thead th {\n",
              "        text-align: right;\n",
              "    }\n",
              "</style>\n",
              "<table border=\"1\" class=\"dataframe\">\n",
              "  <thead>\n",
              "    <tr style=\"text-align: right;\">\n",
              "      <th></th>\n",
              "      <th>id</th>\n",
              "      <th>age</th>\n",
              "      <th>sex</th>\n",
              "      <th>bmi</th>\n",
              "      <th>children</th>\n",
              "      <th>smoker</th>\n",
              "      <th>region</th>\n",
              "      <th>charges</th>\n",
              "    </tr>\n",
              "  </thead>\n",
              "  <tbody>\n",
              "    <tr>\n",
              "      <th>10</th>\n",
              "      <td>11</td>\n",
              "      <td>25</td>\n",
              "      <td>male</td>\n",
              "      <td>26.22</td>\n",
              "      <td>0</td>\n",
              "      <td>no</td>\n",
              "      <td>northeast</td>\n",
              "      <td>272132.08</td>\n",
              "    </tr>\n",
              "    <tr>\n",
              "      <th>11</th>\n",
              "      <td>12</td>\n",
              "      <td>62</td>\n",
              "      <td>female</td>\n",
              "      <td>26.29</td>\n",
              "      <td>0</td>\n",
              "      <td>yes</td>\n",
              "      <td>southeast</td>\n",
              "      <td>2780872.51</td>\n",
              "    </tr>\n",
              "    <tr>\n",
              "      <th>12</th>\n",
              "      <td>13</td>\n",
              "      <td>23</td>\n",
              "      <td>male</td>\n",
              "      <td>34.40</td>\n",
              "      <td>0</td>\n",
              "      <td>no</td>\n",
              "      <td>southwest</td>\n",
              "      <td>18268.43</td>\n",
              "    </tr>\n",
              "    <tr>\n",
              "      <th>13</th>\n",
              "      <td>14</td>\n",
              "      <td>56</td>\n",
              "      <td>female</td>\n",
              "      <td>39.82</td>\n",
              "      <td>0</td>\n",
              "      <td>no</td>\n",
              "      <td>southeast</td>\n",
              "      <td>1109071.78</td>\n",
              "    </tr>\n",
              "    <tr>\n",
              "      <th>14</th>\n",
              "      <td>15</td>\n",
              "      <td>27</td>\n",
              "      <td>male</td>\n",
              "      <td>42.13</td>\n",
              "      <td>0</td>\n",
              "      <td>yes</td>\n",
              "      <td>southeast</td>\n",
              "      <td>3961175.77</td>\n",
              "    </tr>\n",
              "  </tbody>\n",
              "</table>\n",
              "</div>"
            ],
            "text/plain": [
              "    id  age     sex    bmi  children smoker     region     charges\n",
              "10  11   25    male  26.22         0     no  northeast   272132.08\n",
              "11  12   62  female  26.29         0    yes  southeast  2780872.51\n",
              "12  13   23    male  34.40         0     no  southwest    18268.43\n",
              "13  14   56  female  39.82         0     no  southeast  1109071.78\n",
              "14  15   27    male  42.13         0    yes  southeast  3961175.77"
            ]
          },
          "metadata": {
            "tags": []
          },
          "execution_count": 44
        }
      ]
    },
    {
      "cell_type": "code",
      "metadata": {
        "id": "TQXOWGZR0WLV",
        "colab_type": "code",
        "outputId": "eb3790d6-e785-410a-ad10-0e29de032b95",
        "colab": {
          "base_uri": "https://localhost:8080/",
          "height": 243
        }
      },
      "source": [
        "df1.info()"
      ],
      "execution_count": 0,
      "outputs": [
        {
          "output_type": "stream",
          "text": [
            "<class 'pandas.core.frame.DataFrame'>\n",
            "RangeIndex: 15 entries, 0 to 14\n",
            "Data columns (total 8 columns):\n",
            "id          15 non-null int64\n",
            "age         15 non-null int64\n",
            "sex         15 non-null object\n",
            "bmi         15 non-null float64\n",
            "children    15 non-null int64\n",
            "smoker      15 non-null object\n",
            "region      15 non-null object\n",
            "charges     15 non-null float64\n",
            "dtypes: float64(2), int64(3), object(3)\n",
            "memory usage: 1.1+ KB\n"
          ],
          "name": "stdout"
        }
      ]
    },
    {
      "cell_type": "code",
      "metadata": {
        "id": "b7vNsM8R17TG",
        "colab_type": "code",
        "outputId": "8e313ab5-a10e-43cf-c7ec-f9448ec6a40b",
        "colab": {
          "base_uri": "https://localhost:8080/",
          "height": 35
        }
      },
      "source": [
        "dados.sector.unique()"
      ],
      "execution_count": 0,
      "outputs": [
        {
          "output_type": "execute_result",
          "data": {
            "text/plain": [
              "array(['EDUCACAO', 'SAUDE', 'JUSTICA', 'UNIVESP'], dtype=object)"
            ]
          },
          "metadata": {
            "tags": []
          },
          "execution_count": 46
        }
      ]
    },
    {
      "cell_type": "code",
      "metadata": {
        "id": "ew6TTrXW2cmy",
        "colab_type": "code",
        "outputId": "abfc7c9d-8217-4469-da03-971ec97a0742",
        "colab": {
          "base_uri": "https://localhost:8080/",
          "height": 35
        }
      },
      "source": [
        "dados.shape"
      ],
      "execution_count": 0,
      "outputs": [
        {
          "output_type": "execute_result",
          "data": {
            "text/plain": [
              "(9999, 10)"
            ]
          },
          "metadata": {
            "tags": []
          },
          "execution_count": 48
        }
      ]
    },
    {
      "cell_type": "code",
      "metadata": {
        "id": "RbzWpt0-3FJW",
        "colab_type": "code",
        "outputId": "87857d9a-21a6-401d-e4cd-5cd5fc048495",
        "colab": {
          "base_uri": "https://localhost:8080/",
          "height": 69
        }
      },
      "source": [
        "dados.columns"
      ],
      "execution_count": 0,
      "outputs": [
        {
          "output_type": "execute_result",
          "data": {
            "text/plain": [
              "Index(['Id', 'job', 'sector', 'Month_salary', '13_salary', 'eventual_salary',\n",
              "       'indemnity', 'extra_salary', 'discount_salary', 'total_salary'],\n",
              "      dtype='object')"
            ]
          },
          "metadata": {
            "tags": []
          },
          "execution_count": 49
        }
      ]
    },
    {
      "cell_type": "code",
      "metadata": {
        "id": "gt71hdiA3P2t",
        "colab_type": "code",
        "outputId": "cc4dfcc5-afdb-4858-c42d-1ee21cd53b28",
        "colab": {
          "base_uri": "https://localhost:8080/",
          "height": 509
        }
      },
      "source": [
        "df1.head(15)"
      ],
      "execution_count": 0,
      "outputs": [
        {
          "output_type": "execute_result",
          "data": {
            "text/html": [
              "<div>\n",
              "<style scoped>\n",
              "    .dataframe tbody tr th:only-of-type {\n",
              "        vertical-align: middle;\n",
              "    }\n",
              "\n",
              "    .dataframe tbody tr th {\n",
              "        vertical-align: top;\n",
              "    }\n",
              "\n",
              "    .dataframe thead th {\n",
              "        text-align: right;\n",
              "    }\n",
              "</style>\n",
              "<table border=\"1\" class=\"dataframe\">\n",
              "  <thead>\n",
              "    <tr style=\"text-align: right;\">\n",
              "      <th></th>\n",
              "      <th>id</th>\n",
              "      <th>age</th>\n",
              "      <th>sex</th>\n",
              "      <th>bmi</th>\n",
              "      <th>children</th>\n",
              "      <th>smoker</th>\n",
              "      <th>region</th>\n",
              "      <th>charges</th>\n",
              "    </tr>\n",
              "  </thead>\n",
              "  <tbody>\n",
              "    <tr>\n",
              "      <th>0</th>\n",
              "      <td>1</td>\n",
              "      <td>19</td>\n",
              "      <td>female</td>\n",
              "      <td>27.90</td>\n",
              "      <td>0</td>\n",
              "      <td>yes</td>\n",
              "      <td>southwest</td>\n",
              "      <td>168849.24</td>\n",
              "    </tr>\n",
              "    <tr>\n",
              "      <th>1</th>\n",
              "      <td>2</td>\n",
              "      <td>18</td>\n",
              "      <td>male</td>\n",
              "      <td>33.77</td>\n",
              "      <td>1</td>\n",
              "      <td>no</td>\n",
              "      <td>southeast</td>\n",
              "      <td>172555.23</td>\n",
              "    </tr>\n",
              "    <tr>\n",
              "      <th>2</th>\n",
              "      <td>3</td>\n",
              "      <td>28</td>\n",
              "      <td>male</td>\n",
              "      <td>33.00</td>\n",
              "      <td>3</td>\n",
              "      <td>no</td>\n",
              "      <td>southeast</td>\n",
              "      <td>44494.62</td>\n",
              "    </tr>\n",
              "    <tr>\n",
              "      <th>3</th>\n",
              "      <td>4</td>\n",
              "      <td>33</td>\n",
              "      <td>male</td>\n",
              "      <td>22705.00</td>\n",
              "      <td>0</td>\n",
              "      <td>no</td>\n",
              "      <td>northwest</td>\n",
              "      <td>21984470.61</td>\n",
              "    </tr>\n",
              "    <tr>\n",
              "      <th>4</th>\n",
              "      <td>5</td>\n",
              "      <td>32</td>\n",
              "      <td>male</td>\n",
              "      <td>28.88</td>\n",
              "      <td>0</td>\n",
              "      <td>no</td>\n",
              "      <td>northwest</td>\n",
              "      <td>386685.52</td>\n",
              "    </tr>\n",
              "    <tr>\n",
              "      <th>5</th>\n",
              "      <td>6</td>\n",
              "      <td>31</td>\n",
              "      <td>female</td>\n",
              "      <td>25.74</td>\n",
              "      <td>0</td>\n",
              "      <td>no</td>\n",
              "      <td>southeast</td>\n",
              "      <td>375662.16</td>\n",
              "    </tr>\n",
              "    <tr>\n",
              "      <th>6</th>\n",
              "      <td>7</td>\n",
              "      <td>46</td>\n",
              "      <td>female</td>\n",
              "      <td>33.44</td>\n",
              "      <td>1</td>\n",
              "      <td>no</td>\n",
              "      <td>southeast</td>\n",
              "      <td>824058.96</td>\n",
              "    </tr>\n",
              "    <tr>\n",
              "      <th>7</th>\n",
              "      <td>8</td>\n",
              "      <td>37</td>\n",
              "      <td>female</td>\n",
              "      <td>27.74</td>\n",
              "      <td>3</td>\n",
              "      <td>no</td>\n",
              "      <td>northwest</td>\n",
              "      <td>728150.56</td>\n",
              "    </tr>\n",
              "    <tr>\n",
              "      <th>8</th>\n",
              "      <td>9</td>\n",
              "      <td>37</td>\n",
              "      <td>male</td>\n",
              "      <td>29.83</td>\n",
              "      <td>2</td>\n",
              "      <td>no</td>\n",
              "      <td>northeast</td>\n",
              "      <td>640641.07</td>\n",
              "    </tr>\n",
              "    <tr>\n",
              "      <th>9</th>\n",
              "      <td>10</td>\n",
              "      <td>60</td>\n",
              "      <td>female</td>\n",
              "      <td>25.84</td>\n",
              "      <td>0</td>\n",
              "      <td>no</td>\n",
              "      <td>northwest</td>\n",
              "      <td>28923136.92</td>\n",
              "    </tr>\n",
              "    <tr>\n",
              "      <th>10</th>\n",
              "      <td>11</td>\n",
              "      <td>25</td>\n",
              "      <td>male</td>\n",
              "      <td>26.22</td>\n",
              "      <td>0</td>\n",
              "      <td>no</td>\n",
              "      <td>northeast</td>\n",
              "      <td>272132.08</td>\n",
              "    </tr>\n",
              "    <tr>\n",
              "      <th>11</th>\n",
              "      <td>12</td>\n",
              "      <td>62</td>\n",
              "      <td>female</td>\n",
              "      <td>26.29</td>\n",
              "      <td>0</td>\n",
              "      <td>yes</td>\n",
              "      <td>southeast</td>\n",
              "      <td>2780872.51</td>\n",
              "    </tr>\n",
              "    <tr>\n",
              "      <th>12</th>\n",
              "      <td>13</td>\n",
              "      <td>23</td>\n",
              "      <td>male</td>\n",
              "      <td>34.40</td>\n",
              "      <td>0</td>\n",
              "      <td>no</td>\n",
              "      <td>southwest</td>\n",
              "      <td>18268.43</td>\n",
              "    </tr>\n",
              "    <tr>\n",
              "      <th>13</th>\n",
              "      <td>14</td>\n",
              "      <td>56</td>\n",
              "      <td>female</td>\n",
              "      <td>39.82</td>\n",
              "      <td>0</td>\n",
              "      <td>no</td>\n",
              "      <td>southeast</td>\n",
              "      <td>1109071.78</td>\n",
              "    </tr>\n",
              "    <tr>\n",
              "      <th>14</th>\n",
              "      <td>15</td>\n",
              "      <td>27</td>\n",
              "      <td>male</td>\n",
              "      <td>42.13</td>\n",
              "      <td>0</td>\n",
              "      <td>yes</td>\n",
              "      <td>southeast</td>\n",
              "      <td>3961175.77</td>\n",
              "    </tr>\n",
              "  </tbody>\n",
              "</table>\n",
              "</div>"
            ],
            "text/plain": [
              "    id  age     sex       bmi  children smoker     region      charges\n",
              "0    1   19  female     27.90         0    yes  southwest    168849.24\n",
              "1    2   18    male     33.77         1     no  southeast    172555.23\n",
              "2    3   28    male     33.00         3     no  southeast     44494.62\n",
              "3    4   33    male  22705.00         0     no  northwest  21984470.61\n",
              "4    5   32    male     28.88         0     no  northwest    386685.52\n",
              "5    6   31  female     25.74         0     no  southeast    375662.16\n",
              "6    7   46  female     33.44         1     no  southeast    824058.96\n",
              "7    8   37  female     27.74         3     no  northwest    728150.56\n",
              "8    9   37    male     29.83         2     no  northeast    640641.07\n",
              "9   10   60  female     25.84         0     no  northwest  28923136.92\n",
              "10  11   25    male     26.22         0     no  northeast    272132.08\n",
              "11  12   62  female     26.29         0    yes  southeast   2780872.51\n",
              "12  13   23    male     34.40         0     no  southwest     18268.43\n",
              "13  14   56  female     39.82         0     no  southeast   1109071.78\n",
              "14  15   27    male     42.13         0    yes  southeast   3961175.77"
            ]
          },
          "metadata": {
            "tags": []
          },
          "execution_count": 51
        }
      ]
    },
    {
      "cell_type": "code",
      "metadata": {
        "id": "mMb7fGNe3iw0",
        "colab_type": "code",
        "outputId": "556ace9a-eefa-472d-a7c4-7dccf302e2fb",
        "colab": {
          "base_uri": "https://localhost:8080/",
          "height": 509
        }
      },
      "source": [
        "df1.tail(20)"
      ],
      "execution_count": 0,
      "outputs": [
        {
          "output_type": "execute_result",
          "data": {
            "text/html": [
              "<div>\n",
              "<style scoped>\n",
              "    .dataframe tbody tr th:only-of-type {\n",
              "        vertical-align: middle;\n",
              "    }\n",
              "\n",
              "    .dataframe tbody tr th {\n",
              "        vertical-align: top;\n",
              "    }\n",
              "\n",
              "    .dataframe thead th {\n",
              "        text-align: right;\n",
              "    }\n",
              "</style>\n",
              "<table border=\"1\" class=\"dataframe\">\n",
              "  <thead>\n",
              "    <tr style=\"text-align: right;\">\n",
              "      <th></th>\n",
              "      <th>id</th>\n",
              "      <th>age</th>\n",
              "      <th>sex</th>\n",
              "      <th>bmi</th>\n",
              "      <th>children</th>\n",
              "      <th>smoker</th>\n",
              "      <th>region</th>\n",
              "      <th>charges</th>\n",
              "    </tr>\n",
              "  </thead>\n",
              "  <tbody>\n",
              "    <tr>\n",
              "      <th>0</th>\n",
              "      <td>1</td>\n",
              "      <td>19</td>\n",
              "      <td>female</td>\n",
              "      <td>27.90</td>\n",
              "      <td>0</td>\n",
              "      <td>yes</td>\n",
              "      <td>southwest</td>\n",
              "      <td>168849.24</td>\n",
              "    </tr>\n",
              "    <tr>\n",
              "      <th>1</th>\n",
              "      <td>2</td>\n",
              "      <td>18</td>\n",
              "      <td>male</td>\n",
              "      <td>33.77</td>\n",
              "      <td>1</td>\n",
              "      <td>no</td>\n",
              "      <td>southeast</td>\n",
              "      <td>172555.23</td>\n",
              "    </tr>\n",
              "    <tr>\n",
              "      <th>2</th>\n",
              "      <td>3</td>\n",
              "      <td>28</td>\n",
              "      <td>male</td>\n",
              "      <td>33.00</td>\n",
              "      <td>3</td>\n",
              "      <td>no</td>\n",
              "      <td>southeast</td>\n",
              "      <td>44494.62</td>\n",
              "    </tr>\n",
              "    <tr>\n",
              "      <th>3</th>\n",
              "      <td>4</td>\n",
              "      <td>33</td>\n",
              "      <td>male</td>\n",
              "      <td>22705.00</td>\n",
              "      <td>0</td>\n",
              "      <td>no</td>\n",
              "      <td>northwest</td>\n",
              "      <td>21984470.61</td>\n",
              "    </tr>\n",
              "    <tr>\n",
              "      <th>4</th>\n",
              "      <td>5</td>\n",
              "      <td>32</td>\n",
              "      <td>male</td>\n",
              "      <td>28.88</td>\n",
              "      <td>0</td>\n",
              "      <td>no</td>\n",
              "      <td>northwest</td>\n",
              "      <td>386685.52</td>\n",
              "    </tr>\n",
              "    <tr>\n",
              "      <th>5</th>\n",
              "      <td>6</td>\n",
              "      <td>31</td>\n",
              "      <td>female</td>\n",
              "      <td>25.74</td>\n",
              "      <td>0</td>\n",
              "      <td>no</td>\n",
              "      <td>southeast</td>\n",
              "      <td>375662.16</td>\n",
              "    </tr>\n",
              "    <tr>\n",
              "      <th>6</th>\n",
              "      <td>7</td>\n",
              "      <td>46</td>\n",
              "      <td>female</td>\n",
              "      <td>33.44</td>\n",
              "      <td>1</td>\n",
              "      <td>no</td>\n",
              "      <td>southeast</td>\n",
              "      <td>824058.96</td>\n",
              "    </tr>\n",
              "    <tr>\n",
              "      <th>7</th>\n",
              "      <td>8</td>\n",
              "      <td>37</td>\n",
              "      <td>female</td>\n",
              "      <td>27.74</td>\n",
              "      <td>3</td>\n",
              "      <td>no</td>\n",
              "      <td>northwest</td>\n",
              "      <td>728150.56</td>\n",
              "    </tr>\n",
              "    <tr>\n",
              "      <th>8</th>\n",
              "      <td>9</td>\n",
              "      <td>37</td>\n",
              "      <td>male</td>\n",
              "      <td>29.83</td>\n",
              "      <td>2</td>\n",
              "      <td>no</td>\n",
              "      <td>northeast</td>\n",
              "      <td>640641.07</td>\n",
              "    </tr>\n",
              "    <tr>\n",
              "      <th>9</th>\n",
              "      <td>10</td>\n",
              "      <td>60</td>\n",
              "      <td>female</td>\n",
              "      <td>25.84</td>\n",
              "      <td>0</td>\n",
              "      <td>no</td>\n",
              "      <td>northwest</td>\n",
              "      <td>28923136.92</td>\n",
              "    </tr>\n",
              "    <tr>\n",
              "      <th>10</th>\n",
              "      <td>11</td>\n",
              "      <td>25</td>\n",
              "      <td>male</td>\n",
              "      <td>26.22</td>\n",
              "      <td>0</td>\n",
              "      <td>no</td>\n",
              "      <td>northeast</td>\n",
              "      <td>272132.08</td>\n",
              "    </tr>\n",
              "    <tr>\n",
              "      <th>11</th>\n",
              "      <td>12</td>\n",
              "      <td>62</td>\n",
              "      <td>female</td>\n",
              "      <td>26.29</td>\n",
              "      <td>0</td>\n",
              "      <td>yes</td>\n",
              "      <td>southeast</td>\n",
              "      <td>2780872.51</td>\n",
              "    </tr>\n",
              "    <tr>\n",
              "      <th>12</th>\n",
              "      <td>13</td>\n",
              "      <td>23</td>\n",
              "      <td>male</td>\n",
              "      <td>34.40</td>\n",
              "      <td>0</td>\n",
              "      <td>no</td>\n",
              "      <td>southwest</td>\n",
              "      <td>18268.43</td>\n",
              "    </tr>\n",
              "    <tr>\n",
              "      <th>13</th>\n",
              "      <td>14</td>\n",
              "      <td>56</td>\n",
              "      <td>female</td>\n",
              "      <td>39.82</td>\n",
              "      <td>0</td>\n",
              "      <td>no</td>\n",
              "      <td>southeast</td>\n",
              "      <td>1109071.78</td>\n",
              "    </tr>\n",
              "    <tr>\n",
              "      <th>14</th>\n",
              "      <td>15</td>\n",
              "      <td>27</td>\n",
              "      <td>male</td>\n",
              "      <td>42.13</td>\n",
              "      <td>0</td>\n",
              "      <td>yes</td>\n",
              "      <td>southeast</td>\n",
              "      <td>3961175.77</td>\n",
              "    </tr>\n",
              "  </tbody>\n",
              "</table>\n",
              "</div>"
            ],
            "text/plain": [
              "    id  age     sex       bmi  children smoker     region      charges\n",
              "0    1   19  female     27.90         0    yes  southwest    168849.24\n",
              "1    2   18    male     33.77         1     no  southeast    172555.23\n",
              "2    3   28    male     33.00         3     no  southeast     44494.62\n",
              "3    4   33    male  22705.00         0     no  northwest  21984470.61\n",
              "4    5   32    male     28.88         0     no  northwest    386685.52\n",
              "5    6   31  female     25.74         0     no  southeast    375662.16\n",
              "6    7   46  female     33.44         1     no  southeast    824058.96\n",
              "7    8   37  female     27.74         3     no  northwest    728150.56\n",
              "8    9   37    male     29.83         2     no  northeast    640641.07\n",
              "9   10   60  female     25.84         0     no  northwest  28923136.92\n",
              "10  11   25    male     26.22         0     no  northeast    272132.08\n",
              "11  12   62  female     26.29         0    yes  southeast   2780872.51\n",
              "12  13   23    male     34.40         0     no  southwest     18268.43\n",
              "13  14   56  female     39.82         0     no  southeast   1109071.78\n",
              "14  15   27    male     42.13         0    yes  southeast   3961175.77"
            ]
          },
          "metadata": {
            "tags": []
          },
          "execution_count": 52
        }
      ]
    },
    {
      "cell_type": "code",
      "metadata": {
        "id": "iJ0fohT03nNP",
        "colab_type": "code",
        "outputId": "b4853cb4-218e-4af2-c759-bd00ee38e9b2",
        "colab": {
          "base_uri": "https://localhost:8080/",
          "height": 225
        }
      },
      "source": [
        "dados['sector']"
      ],
      "execution_count": 0,
      "outputs": [
        {
          "output_type": "execute_result",
          "data": {
            "text/plain": [
              "0       EDUCACAO\n",
              "1       EDUCACAO\n",
              "2       EDUCACAO\n",
              "3       EDUCACAO\n",
              "4       EDUCACAO\n",
              "          ...   \n",
              "9994    EDUCACAO\n",
              "9995    EDUCACAO\n",
              "9996    EDUCACAO\n",
              "9997    EDUCACAO\n",
              "9998    EDUCACAO\n",
              "Name: sector, Length: 9999, dtype: object"
            ]
          },
          "metadata": {
            "tags": []
          },
          "execution_count": 53
        }
      ]
    },
    {
      "cell_type": "code",
      "metadata": {
        "id": "WPew3R_B38SL",
        "colab_type": "code",
        "outputId": "7d1c254f-1c36-4cfd-9325-ca59e2df3ba2",
        "colab": {
          "base_uri": "https://localhost:8080/",
          "height": 225
        }
      },
      "source": [
        "dados['sector'] == 'EDUCACAO'"
      ],
      "execution_count": 0,
      "outputs": [
        {
          "output_type": "execute_result",
          "data": {
            "text/plain": [
              "0       True\n",
              "1       True\n",
              "2       True\n",
              "3       True\n",
              "4       True\n",
              "        ... \n",
              "9994    True\n",
              "9995    True\n",
              "9996    True\n",
              "9997    True\n",
              "9998    True\n",
              "Name: sector, Length: 9999, dtype: bool"
            ]
          },
          "metadata": {
            "tags": []
          },
          "execution_count": 54
        }
      ]
    },
    {
      "cell_type": "code",
      "metadata": {
        "id": "SBudOpnK5J-E",
        "colab_type": "code",
        "colab": {}
      },
      "source": [
        "educacao_basico_2 = dados[dados['job'] == 'PROFESSOR EDUCACAO BASICA II']"
      ],
      "execution_count": 0,
      "outputs": []
    },
    {
      "cell_type": "code",
      "metadata": {
        "id": "PdmZ0op16oa2",
        "colab_type": "code",
        "outputId": "1693a3ed-426b-43df-835d-9300b8af5b1a",
        "colab": {
          "base_uri": "https://localhost:8080/",
          "height": 589
        }
      },
      "source": [
        "educacao_basico_2"
      ],
      "execution_count": 0,
      "outputs": [
        {
          "output_type": "execute_result",
          "data": {
            "text/html": [
              "<div>\n",
              "<style scoped>\n",
              "    .dataframe tbody tr th:only-of-type {\n",
              "        vertical-align: middle;\n",
              "    }\n",
              "\n",
              "    .dataframe tbody tr th {\n",
              "        vertical-align: top;\n",
              "    }\n",
              "\n",
              "    .dataframe thead th {\n",
              "        text-align: right;\n",
              "    }\n",
              "</style>\n",
              "<table border=\"1\" class=\"dataframe\">\n",
              "  <thead>\n",
              "    <tr style=\"text-align: right;\">\n",
              "      <th></th>\n",
              "      <th>Id</th>\n",
              "      <th>job</th>\n",
              "      <th>sector</th>\n",
              "      <th>Month_salary</th>\n",
              "      <th>13_salary</th>\n",
              "      <th>eventual_salary</th>\n",
              "      <th>indemnity</th>\n",
              "      <th>extra_salary</th>\n",
              "      <th>discount_salary</th>\n",
              "      <th>total_salary</th>\n",
              "    </tr>\n",
              "  </thead>\n",
              "  <tbody>\n",
              "    <tr>\n",
              "      <th>2</th>\n",
              "      <td>28319</td>\n",
              "      <td>PROFESSOR EDUCACAO BASICA II</td>\n",
              "      <td>EDUCACAO</td>\n",
              "      <td>2790340</td>\n",
              "      <td>0.0</td>\n",
              "      <td>0.0</td>\n",
              "      <td>0.0</td>\n",
              "      <td>0.0</td>\n",
              "      <td>0.0</td>\n",
              "      <td>1496730.0</td>\n",
              "    </tr>\n",
              "    <tr>\n",
              "      <th>3</th>\n",
              "      <td>28320</td>\n",
              "      <td>PROFESSOR EDUCACAO BASICA II</td>\n",
              "      <td>EDUCACAO</td>\n",
              "      <td>3867060</td>\n",
              "      <td>0.0</td>\n",
              "      <td>0.0</td>\n",
              "      <td>0.0</td>\n",
              "      <td>0.0</td>\n",
              "      <td>0.0</td>\n",
              "      <td>2091770.0</td>\n",
              "    </tr>\n",
              "    <tr>\n",
              "      <th>4</th>\n",
              "      <td>28321</td>\n",
              "      <td>PROFESSOR EDUCACAO BASICA II</td>\n",
              "      <td>EDUCACAO</td>\n",
              "      <td>1751490</td>\n",
              "      <td>6030.0</td>\n",
              "      <td>82080.0</td>\n",
              "      <td>0.0</td>\n",
              "      <td>47030.0</td>\n",
              "      <td>0.0</td>\n",
              "      <td>1493070.0</td>\n",
              "    </tr>\n",
              "    <tr>\n",
              "      <th>6</th>\n",
              "      <td>28323</td>\n",
              "      <td>PROFESSOR EDUCACAO BASICA II</td>\n",
              "      <td>EDUCACAO</td>\n",
              "      <td>1944780</td>\n",
              "      <td>0.0</td>\n",
              "      <td>0.0</td>\n",
              "      <td>0.0</td>\n",
              "      <td>28080.0</td>\n",
              "      <td>0.0</td>\n",
              "      <td>959480.0</td>\n",
              "    </tr>\n",
              "    <tr>\n",
              "      <th>9</th>\n",
              "      <td>28326</td>\n",
              "      <td>PROFESSOR EDUCACAO BASICA II</td>\n",
              "      <td>EDUCACAO</td>\n",
              "      <td>5040180</td>\n",
              "      <td>0.0</td>\n",
              "      <td>0.0</td>\n",
              "      <td>0.0</td>\n",
              "      <td>0.0</td>\n",
              "      <td>0.0</td>\n",
              "      <td>2645220.0</td>\n",
              "    </tr>\n",
              "    <tr>\n",
              "      <th>...</th>\n",
              "      <td>...</td>\n",
              "      <td>...</td>\n",
              "      <td>...</td>\n",
              "      <td>...</td>\n",
              "      <td>...</td>\n",
              "      <td>...</td>\n",
              "      <td>...</td>\n",
              "      <td>...</td>\n",
              "      <td>...</td>\n",
              "      <td>...</td>\n",
              "    </tr>\n",
              "    <tr>\n",
              "      <th>9975</th>\n",
              "      <td>59241</td>\n",
              "      <td>PROFESSOR EDUCACAO BASICA II</td>\n",
              "      <td>EDUCACAO</td>\n",
              "      <td>4876360</td>\n",
              "      <td>0.0</td>\n",
              "      <td>-473860.0</td>\n",
              "      <td>0.0</td>\n",
              "      <td>0.0</td>\n",
              "      <td>0.0</td>\n",
              "      <td>3352170.0</td>\n",
              "    </tr>\n",
              "    <tr>\n",
              "      <th>9987</th>\n",
              "      <td>59288</td>\n",
              "      <td>PROFESSOR EDUCACAO BASICA II</td>\n",
              "      <td>EDUCACAO</td>\n",
              "      <td>8901760</td>\n",
              "      <td>4450870.0</td>\n",
              "      <td>0.0</td>\n",
              "      <td>0.0</td>\n",
              "      <td>0.0</td>\n",
              "      <td>0.0</td>\n",
              "      <td>10378230.0</td>\n",
              "    </tr>\n",
              "    <tr>\n",
              "      <th>9990</th>\n",
              "      <td>59305</td>\n",
              "      <td>PROFESSOR EDUCACAO BASICA II</td>\n",
              "      <td>EDUCACAO</td>\n",
              "      <td>2496010</td>\n",
              "      <td>0.0</td>\n",
              "      <td>0.0</td>\n",
              "      <td>0.0</td>\n",
              "      <td>95850.0</td>\n",
              "      <td>0.0</td>\n",
              "      <td>2216350.0</td>\n",
              "    </tr>\n",
              "    <tr>\n",
              "      <th>9994</th>\n",
              "      <td>59325</td>\n",
              "      <td>PROFESSOR EDUCACAO BASICA II</td>\n",
              "      <td>EDUCACAO</td>\n",
              "      <td>3023580</td>\n",
              "      <td>93720.0</td>\n",
              "      <td>2067300.0</td>\n",
              "      <td>0.0</td>\n",
              "      <td>54920.0</td>\n",
              "      <td>0.0</td>\n",
              "      <td>4353740.0</td>\n",
              "    </tr>\n",
              "    <tr>\n",
              "      <th>9995</th>\n",
              "      <td>59328</td>\n",
              "      <td>PROFESSOR EDUCACAO BASICA II</td>\n",
              "      <td>EDUCACAO</td>\n",
              "      <td>2065810</td>\n",
              "      <td>0.0</td>\n",
              "      <td>0.0</td>\n",
              "      <td>0.0</td>\n",
              "      <td>118970.0</td>\n",
              "      <td>0.0</td>\n",
              "      <td>1293770.0</td>\n",
              "    </tr>\n",
              "  </tbody>\n",
              "</table>\n",
              "<p>5146 rows × 10 columns</p>\n",
              "</div>"
            ],
            "text/plain": [
              "         Id                           job  ... discount_salary  total_salary\n",
              "2     28319  PROFESSOR EDUCACAO BASICA II  ...             0.0     1496730.0\n",
              "3     28320  PROFESSOR EDUCACAO BASICA II  ...             0.0     2091770.0\n",
              "4     28321  PROFESSOR EDUCACAO BASICA II  ...             0.0     1493070.0\n",
              "6     28323  PROFESSOR EDUCACAO BASICA II  ...             0.0      959480.0\n",
              "9     28326  PROFESSOR EDUCACAO BASICA II  ...             0.0     2645220.0\n",
              "...     ...                           ...  ...             ...           ...\n",
              "9975  59241  PROFESSOR EDUCACAO BASICA II  ...             0.0     3352170.0\n",
              "9987  59288  PROFESSOR EDUCACAO BASICA II  ...             0.0    10378230.0\n",
              "9990  59305  PROFESSOR EDUCACAO BASICA II  ...             0.0     2216350.0\n",
              "9994  59325  PROFESSOR EDUCACAO BASICA II  ...             0.0     4353740.0\n",
              "9995  59328  PROFESSOR EDUCACAO BASICA II  ...             0.0     1293770.0\n",
              "\n",
              "[5146 rows x 10 columns]"
            ]
          },
          "metadata": {
            "tags": []
          },
          "execution_count": 58
        }
      ]
    },
    {
      "cell_type": "code",
      "metadata": {
        "id": "vpNrvMMz72XF",
        "colab_type": "code",
        "outputId": "6f39e10c-28cf-4333-dbb2-402cbef24ea7",
        "colab": {
          "base_uri": "https://localhost:8080/",
          "height": 49
        }
      },
      "source": [
        "dados[(dados['job'] == 'PROFESSOR EDUCACAO BASICA II') & (dados['discount_salary'] > 0)]"
      ],
      "execution_count": 0,
      "outputs": [
        {
          "output_type": "execute_result",
          "data": {
            "text/html": [
              "<div>\n",
              "<style scoped>\n",
              "    .dataframe tbody tr th:only-of-type {\n",
              "        vertical-align: middle;\n",
              "    }\n",
              "\n",
              "    .dataframe tbody tr th {\n",
              "        vertical-align: top;\n",
              "    }\n",
              "\n",
              "    .dataframe thead th {\n",
              "        text-align: right;\n",
              "    }\n",
              "</style>\n",
              "<table border=\"1\" class=\"dataframe\">\n",
              "  <thead>\n",
              "    <tr style=\"text-align: right;\">\n",
              "      <th></th>\n",
              "      <th>Id</th>\n",
              "      <th>job</th>\n",
              "      <th>sector</th>\n",
              "      <th>Month_salary</th>\n",
              "      <th>13_salary</th>\n",
              "      <th>eventual_salary</th>\n",
              "      <th>indemnity</th>\n",
              "      <th>extra_salary</th>\n",
              "      <th>discount_salary</th>\n",
              "      <th>total_salary</th>\n",
              "    </tr>\n",
              "  </thead>\n",
              "  <tbody>\n",
              "  </tbody>\n",
              "</table>\n",
              "</div>"
            ],
            "text/plain": [
              "Empty DataFrame\n",
              "Columns: [Id, job, sector, Month_salary, 13_salary, eventual_salary, indemnity, extra_salary, discount_salary, total_salary]\n",
              "Index: []"
            ]
          },
          "metadata": {
            "tags": []
          },
          "execution_count": 64
        }
      ]
    },
    {
      "cell_type": "code",
      "metadata": {
        "id": "_D9JxEon9PCK",
        "colab_type": "code",
        "outputId": "04d45bf4-9067-49e1-a46e-c95a8d9b4bda",
        "colab": {
          "base_uri": "https://localhost:8080/",
          "height": 289
        }
      },
      "source": [
        "dados[(dados.sector == 'EDUCACAO') | (dados.sector=='SAUDE') | (dados.sector=='JUSTICA')].head()"
      ],
      "execution_count": 0,
      "outputs": [
        {
          "output_type": "execute_result",
          "data": {
            "text/html": [
              "<div>\n",
              "<style scoped>\n",
              "    .dataframe tbody tr th:only-of-type {\n",
              "        vertical-align: middle;\n",
              "    }\n",
              "\n",
              "    .dataframe tbody tr th {\n",
              "        vertical-align: top;\n",
              "    }\n",
              "\n",
              "    .dataframe thead th {\n",
              "        text-align: right;\n",
              "    }\n",
              "</style>\n",
              "<table border=\"1\" class=\"dataframe\">\n",
              "  <thead>\n",
              "    <tr style=\"text-align: right;\">\n",
              "      <th></th>\n",
              "      <th>Id</th>\n",
              "      <th>job</th>\n",
              "      <th>sector</th>\n",
              "      <th>Month_salary</th>\n",
              "      <th>13_salary</th>\n",
              "      <th>eventual_salary</th>\n",
              "      <th>indemnity</th>\n",
              "      <th>extra_salary</th>\n",
              "      <th>discount_salary</th>\n",
              "      <th>total_salary</th>\n",
              "    </tr>\n",
              "  </thead>\n",
              "  <tbody>\n",
              "    <tr>\n",
              "      <th>0</th>\n",
              "      <td>28316</td>\n",
              "      <td>PROFESSOR EDUCACAO BASICA I</td>\n",
              "      <td>EDUCACAO</td>\n",
              "      <td>3559250</td>\n",
              "      <td>0.0</td>\n",
              "      <td>0.0</td>\n",
              "      <td>0.0</td>\n",
              "      <td>0.0</td>\n",
              "      <td>0.0</td>\n",
              "      <td>2976200.0</td>\n",
              "    </tr>\n",
              "    <tr>\n",
              "      <th>1</th>\n",
              "      <td>28317</td>\n",
              "      <td>PROFESSOR EDUCACAO BASICA I</td>\n",
              "      <td>EDUCACAO</td>\n",
              "      <td>2538670</td>\n",
              "      <td>0.0</td>\n",
              "      <td>0.0</td>\n",
              "      <td>0.0</td>\n",
              "      <td>109870.0</td>\n",
              "      <td>0.0</td>\n",
              "      <td>1991060.0</td>\n",
              "    </tr>\n",
              "    <tr>\n",
              "      <th>2</th>\n",
              "      <td>28319</td>\n",
              "      <td>PROFESSOR EDUCACAO BASICA II</td>\n",
              "      <td>EDUCACAO</td>\n",
              "      <td>2790340</td>\n",
              "      <td>0.0</td>\n",
              "      <td>0.0</td>\n",
              "      <td>0.0</td>\n",
              "      <td>0.0</td>\n",
              "      <td>0.0</td>\n",
              "      <td>1496730.0</td>\n",
              "    </tr>\n",
              "    <tr>\n",
              "      <th>3</th>\n",
              "      <td>28320</td>\n",
              "      <td>PROFESSOR EDUCACAO BASICA II</td>\n",
              "      <td>EDUCACAO</td>\n",
              "      <td>3867060</td>\n",
              "      <td>0.0</td>\n",
              "      <td>0.0</td>\n",
              "      <td>0.0</td>\n",
              "      <td>0.0</td>\n",
              "      <td>0.0</td>\n",
              "      <td>2091770.0</td>\n",
              "    </tr>\n",
              "    <tr>\n",
              "      <th>4</th>\n",
              "      <td>28321</td>\n",
              "      <td>PROFESSOR EDUCACAO BASICA II</td>\n",
              "      <td>EDUCACAO</td>\n",
              "      <td>1751490</td>\n",
              "      <td>6030.0</td>\n",
              "      <td>82080.0</td>\n",
              "      <td>0.0</td>\n",
              "      <td>47030.0</td>\n",
              "      <td>0.0</td>\n",
              "      <td>1493070.0</td>\n",
              "    </tr>\n",
              "  </tbody>\n",
              "</table>\n",
              "</div>"
            ],
            "text/plain": [
              "      Id                           job  ... discount_salary  total_salary\n",
              "0  28316   PROFESSOR EDUCACAO BASICA I  ...             0.0     2976200.0\n",
              "1  28317   PROFESSOR EDUCACAO BASICA I  ...             0.0     1991060.0\n",
              "2  28319  PROFESSOR EDUCACAO BASICA II  ...             0.0     1496730.0\n",
              "3  28320  PROFESSOR EDUCACAO BASICA II  ...             0.0     2091770.0\n",
              "4  28321  PROFESSOR EDUCACAO BASICA II  ...             0.0     1493070.0\n",
              "\n",
              "[5 rows x 10 columns]"
            ]
          },
          "metadata": {
            "tags": []
          },
          "execution_count": 66
        }
      ]
    },
    {
      "cell_type": "code",
      "metadata": {
        "id": "d0P5C9mk_Xrj",
        "colab_type": "code",
        "outputId": "e0074444-fc22-4bcd-f47c-91ca80e38934",
        "colab": {
          "base_uri": "https://localhost:8080/",
          "height": 1000
        }
      },
      "source": [
        "dados[dados.sector.isin(['EDUCACAO','SAUDE','JUSTICA'])].head(30)"
      ],
      "execution_count": 0,
      "outputs": [
        {
          "output_type": "execute_result",
          "data": {
            "text/html": [
              "<div>\n",
              "<style scoped>\n",
              "    .dataframe tbody tr th:only-of-type {\n",
              "        vertical-align: middle;\n",
              "    }\n",
              "\n",
              "    .dataframe tbody tr th {\n",
              "        vertical-align: top;\n",
              "    }\n",
              "\n",
              "    .dataframe thead th {\n",
              "        text-align: right;\n",
              "    }\n",
              "</style>\n",
              "<table border=\"1\" class=\"dataframe\">\n",
              "  <thead>\n",
              "    <tr style=\"text-align: right;\">\n",
              "      <th></th>\n",
              "      <th>Id</th>\n",
              "      <th>job</th>\n",
              "      <th>sector</th>\n",
              "      <th>Month_salary</th>\n",
              "      <th>13_salary</th>\n",
              "      <th>eventual_salary</th>\n",
              "      <th>indemnity</th>\n",
              "      <th>extra_salary</th>\n",
              "      <th>discount_salary</th>\n",
              "      <th>total_salary</th>\n",
              "    </tr>\n",
              "  </thead>\n",
              "  <tbody>\n",
              "    <tr>\n",
              "      <th>0</th>\n",
              "      <td>28316</td>\n",
              "      <td>PROFESSOR EDUCACAO BASICA I</td>\n",
              "      <td>EDUCACAO</td>\n",
              "      <td>3559250</td>\n",
              "      <td>0.0</td>\n",
              "      <td>0.0</td>\n",
              "      <td>0.0</td>\n",
              "      <td>0.00</td>\n",
              "      <td>0.0</td>\n",
              "      <td>2976200.0</td>\n",
              "    </tr>\n",
              "    <tr>\n",
              "      <th>1</th>\n",
              "      <td>28317</td>\n",
              "      <td>PROFESSOR EDUCACAO BASICA I</td>\n",
              "      <td>EDUCACAO</td>\n",
              "      <td>2538670</td>\n",
              "      <td>0.0</td>\n",
              "      <td>0.0</td>\n",
              "      <td>0.0</td>\n",
              "      <td>109870.00</td>\n",
              "      <td>0.0</td>\n",
              "      <td>1991060.0</td>\n",
              "    </tr>\n",
              "    <tr>\n",
              "      <th>2</th>\n",
              "      <td>28319</td>\n",
              "      <td>PROFESSOR EDUCACAO BASICA II</td>\n",
              "      <td>EDUCACAO</td>\n",
              "      <td>2790340</td>\n",
              "      <td>0.0</td>\n",
              "      <td>0.0</td>\n",
              "      <td>0.0</td>\n",
              "      <td>0.00</td>\n",
              "      <td>0.0</td>\n",
              "      <td>1496730.0</td>\n",
              "    </tr>\n",
              "    <tr>\n",
              "      <th>3</th>\n",
              "      <td>28320</td>\n",
              "      <td>PROFESSOR EDUCACAO BASICA II</td>\n",
              "      <td>EDUCACAO</td>\n",
              "      <td>3867060</td>\n",
              "      <td>0.0</td>\n",
              "      <td>0.0</td>\n",
              "      <td>0.0</td>\n",
              "      <td>0.00</td>\n",
              "      <td>0.0</td>\n",
              "      <td>2091770.0</td>\n",
              "    </tr>\n",
              "    <tr>\n",
              "      <th>4</th>\n",
              "      <td>28321</td>\n",
              "      <td>PROFESSOR EDUCACAO BASICA II</td>\n",
              "      <td>EDUCACAO</td>\n",
              "      <td>1751490</td>\n",
              "      <td>6030.0</td>\n",
              "      <td>82080.0</td>\n",
              "      <td>0.0</td>\n",
              "      <td>47030.00</td>\n",
              "      <td>0.0</td>\n",
              "      <td>1493070.0</td>\n",
              "    </tr>\n",
              "    <tr>\n",
              "      <th>5</th>\n",
              "      <td>28322</td>\n",
              "      <td>AGENTE DE ORGANIZACAO ESCOLAR</td>\n",
              "      <td>EDUCACAO</td>\n",
              "      <td>3363660</td>\n",
              "      <td>1681830.0</td>\n",
              "      <td>0.0</td>\n",
              "      <td>3363660.0</td>\n",
              "      <td>54680.00</td>\n",
              "      <td>0.0</td>\n",
              "      <td>7069420.0</td>\n",
              "    </tr>\n",
              "    <tr>\n",
              "      <th>6</th>\n",
              "      <td>28323</td>\n",
              "      <td>PROFESSOR EDUCACAO BASICA II</td>\n",
              "      <td>EDUCACAO</td>\n",
              "      <td>1944780</td>\n",
              "      <td>0.0</td>\n",
              "      <td>0.0</td>\n",
              "      <td>0.0</td>\n",
              "      <td>28080.00</td>\n",
              "      <td>0.0</td>\n",
              "      <td>959480.0</td>\n",
              "    </tr>\n",
              "    <tr>\n",
              "      <th>7</th>\n",
              "      <td>28324</td>\n",
              "      <td>AGENTE DE ORGANIZACAO ESCOLAR</td>\n",
              "      <td>EDUCACAO</td>\n",
              "      <td>3503800</td>\n",
              "      <td>0.0</td>\n",
              "      <td>0.0</td>\n",
              "      <td>0.0</td>\n",
              "      <td>0.00</td>\n",
              "      <td>0.0</td>\n",
              "      <td>2963800.0</td>\n",
              "    </tr>\n",
              "    <tr>\n",
              "      <th>8</th>\n",
              "      <td>28325</td>\n",
              "      <td>AUXILIAR DE SAUDE</td>\n",
              "      <td>SAUDE</td>\n",
              "      <td>2205290</td>\n",
              "      <td>0.0</td>\n",
              "      <td>0.0</td>\n",
              "      <td>0.0</td>\n",
              "      <td>195960.00</td>\n",
              "      <td>0.0</td>\n",
              "      <td>1528740.0</td>\n",
              "    </tr>\n",
              "    <tr>\n",
              "      <th>9</th>\n",
              "      <td>28326</td>\n",
              "      <td>PROFESSOR EDUCACAO BASICA II</td>\n",
              "      <td>EDUCACAO</td>\n",
              "      <td>5040180</td>\n",
              "      <td>0.0</td>\n",
              "      <td>0.0</td>\n",
              "      <td>0.0</td>\n",
              "      <td>0.00</td>\n",
              "      <td>0.0</td>\n",
              "      <td>2645220.0</td>\n",
              "    </tr>\n",
              "    <tr>\n",
              "      <th>10</th>\n",
              "      <td>28327</td>\n",
              "      <td>PROFESSOR EDUCACAO BASICA II</td>\n",
              "      <td>EDUCACAO</td>\n",
              "      <td>1156240</td>\n",
              "      <td>0.0</td>\n",
              "      <td>0.0</td>\n",
              "      <td>0.0</td>\n",
              "      <td>219420.00</td>\n",
              "      <td>0.0</td>\n",
              "      <td>875420.0</td>\n",
              "    </tr>\n",
              "    <tr>\n",
              "      <th>11</th>\n",
              "      <td>28328</td>\n",
              "      <td>PROFESSOR EDUCACAO BASICA II</td>\n",
              "      <td>EDUCACAO</td>\n",
              "      <td>3017750</td>\n",
              "      <td>0.0</td>\n",
              "      <td>0.0</td>\n",
              "      <td>0.0</td>\n",
              "      <td>116490.00</td>\n",
              "      <td>0.0</td>\n",
              "      <td>2656070.0</td>\n",
              "    </tr>\n",
              "    <tr>\n",
              "      <th>12</th>\n",
              "      <td>28329</td>\n",
              "      <td>PROFESSOR EDUCACAO BASICA I</td>\n",
              "      <td>EDUCACAO</td>\n",
              "      <td>2595850</td>\n",
              "      <td>0.0</td>\n",
              "      <td>0.0</td>\n",
              "      <td>0.0</td>\n",
              "      <td>117840.00</td>\n",
              "      <td>0.0</td>\n",
              "      <td>2246300.0</td>\n",
              "    </tr>\n",
              "    <tr>\n",
              "      <th>13</th>\n",
              "      <td>28330</td>\n",
              "      <td>PROFESSOR EDUCACAO BASICA I</td>\n",
              "      <td>EDUCACAO</td>\n",
              "      <td>2973640</td>\n",
              "      <td>0.0</td>\n",
              "      <td>715680.0</td>\n",
              "      <td>0.0</td>\n",
              "      <td>-0.07</td>\n",
              "      <td>0.0</td>\n",
              "      <td>2252850.0</td>\n",
              "    </tr>\n",
              "    <tr>\n",
              "      <th>14</th>\n",
              "      <td>28332</td>\n",
              "      <td>PROFESSOR EDUCACAO BASICA II</td>\n",
              "      <td>EDUCACAO</td>\n",
              "      <td>3927050</td>\n",
              "      <td>0.0</td>\n",
              "      <td>0.0</td>\n",
              "      <td>0.0</td>\n",
              "      <td>47870.00</td>\n",
              "      <td>0.0</td>\n",
              "      <td>3273790.0</td>\n",
              "    </tr>\n",
              "    <tr>\n",
              "      <th>15</th>\n",
              "      <td>28333</td>\n",
              "      <td>PROFESSOR EDUCACAO BASICA I</td>\n",
              "      <td>EDUCACAO</td>\n",
              "      <td>1953960</td>\n",
              "      <td>0.0</td>\n",
              "      <td>0.0</td>\n",
              "      <td>0.0</td>\n",
              "      <td>171560.00</td>\n",
              "      <td>0.0</td>\n",
              "      <td>1946250.0</td>\n",
              "    </tr>\n",
              "    <tr>\n",
              "      <th>16</th>\n",
              "      <td>28334</td>\n",
              "      <td>DIRETOR TECNICO DE SAUDE I</td>\n",
              "      <td>SAUDE</td>\n",
              "      <td>8475560</td>\n",
              "      <td>0.0</td>\n",
              "      <td>0.0</td>\n",
              "      <td>0.0</td>\n",
              "      <td>121950.00</td>\n",
              "      <td>0.0</td>\n",
              "      <td>6764820.0</td>\n",
              "    </tr>\n",
              "    <tr>\n",
              "      <th>17</th>\n",
              "      <td>28335</td>\n",
              "      <td>PROFESSOR EDUCACAO BASICA I</td>\n",
              "      <td>EDUCACAO</td>\n",
              "      <td>1953970</td>\n",
              "      <td>0.0</td>\n",
              "      <td>0.0</td>\n",
              "      <td>0.0</td>\n",
              "      <td>99360.00</td>\n",
              "      <td>0.0</td>\n",
              "      <td>1840890.0</td>\n",
              "    </tr>\n",
              "    <tr>\n",
              "      <th>18</th>\n",
              "      <td>28336</td>\n",
              "      <td>PROFESSOR EDUCACAO BASICA II</td>\n",
              "      <td>EDUCACAO</td>\n",
              "      <td>1485760</td>\n",
              "      <td>0.0</td>\n",
              "      <td>0.0</td>\n",
              "      <td>0.0</td>\n",
              "      <td>0.00</td>\n",
              "      <td>0.0</td>\n",
              "      <td>902610.0</td>\n",
              "    </tr>\n",
              "    <tr>\n",
              "      <th>19</th>\n",
              "      <td>28337</td>\n",
              "      <td>PROFESSOR EDUCACAO BASICA II</td>\n",
              "      <td>EDUCACAO</td>\n",
              "      <td>2415880</td>\n",
              "      <td>-140620.0</td>\n",
              "      <td>3706080.0</td>\n",
              "      <td>0.0</td>\n",
              "      <td>143840.00</td>\n",
              "      <td>0.0</td>\n",
              "      <td>4333490.0</td>\n",
              "    </tr>\n",
              "    <tr>\n",
              "      <th>20</th>\n",
              "      <td>28340</td>\n",
              "      <td>PROFESSOR EDUCACAO BASICA II</td>\n",
              "      <td>EDUCACAO</td>\n",
              "      <td>3727540</td>\n",
              "      <td>0.0</td>\n",
              "      <td>0.0</td>\n",
              "      <td>0.0</td>\n",
              "      <td>19540.00</td>\n",
              "      <td>0.0</td>\n",
              "      <td>3021960.0</td>\n",
              "    </tr>\n",
              "    <tr>\n",
              "      <th>21</th>\n",
              "      <td>28343</td>\n",
              "      <td>PROFESSOR EDUCACAO BASICA I</td>\n",
              "      <td>EDUCACAO</td>\n",
              "      <td>2057400</td>\n",
              "      <td>0.0</td>\n",
              "      <td>0.0</td>\n",
              "      <td>0.0</td>\n",
              "      <td>73110.00</td>\n",
              "      <td>0.0</td>\n",
              "      <td>1942250.0</td>\n",
              "    </tr>\n",
              "    <tr>\n",
              "      <th>22</th>\n",
              "      <td>28344</td>\n",
              "      <td>DIRETOR DE ESCOLA</td>\n",
              "      <td>EDUCACAO</td>\n",
              "      <td>5230690</td>\n",
              "      <td>0.0</td>\n",
              "      <td>0.0</td>\n",
              "      <td>0.0</td>\n",
              "      <td>426000.00</td>\n",
              "      <td>0.0</td>\n",
              "      <td>3757420.0</td>\n",
              "    </tr>\n",
              "    <tr>\n",
              "      <th>23</th>\n",
              "      <td>28347</td>\n",
              "      <td>PROFESSOR EDUCACAO BASICA II</td>\n",
              "      <td>EDUCACAO</td>\n",
              "      <td>3098920</td>\n",
              "      <td>0.0</td>\n",
              "      <td>0.0</td>\n",
              "      <td>0.0</td>\n",
              "      <td>10800.00</td>\n",
              "      <td>0.0</td>\n",
              "      <td>2263800.0</td>\n",
              "    </tr>\n",
              "    <tr>\n",
              "      <th>24</th>\n",
              "      <td>28351</td>\n",
              "      <td>PROFESSOR EDUCACAO BASICA I</td>\n",
              "      <td>EDUCACAO</td>\n",
              "      <td>2851530</td>\n",
              "      <td>0.0</td>\n",
              "      <td>0.0</td>\n",
              "      <td>0.0</td>\n",
              "      <td>104500.00</td>\n",
              "      <td>0.0</td>\n",
              "      <td>2538000.0</td>\n",
              "    </tr>\n",
              "    <tr>\n",
              "      <th>25</th>\n",
              "      <td>28352</td>\n",
              "      <td>PROFESSOR EDUCACAO BASICA II</td>\n",
              "      <td>EDUCACAO</td>\n",
              "      <td>3080810</td>\n",
              "      <td>0.0</td>\n",
              "      <td>-52900.0</td>\n",
              "      <td>0.0</td>\n",
              "      <td>90740.00</td>\n",
              "      <td>0.0</td>\n",
              "      <td>2252900.0</td>\n",
              "    </tr>\n",
              "    <tr>\n",
              "      <th>26</th>\n",
              "      <td>28353</td>\n",
              "      <td>AGENTE DE ORGANIZACAO ESCOLAR</td>\n",
              "      <td>EDUCACAO</td>\n",
              "      <td>1305010</td>\n",
              "      <td>0.0</td>\n",
              "      <td>0.0</td>\n",
              "      <td>0.0</td>\n",
              "      <td>225690.00</td>\n",
              "      <td>0.0</td>\n",
              "      <td>1336770.0</td>\n",
              "    </tr>\n",
              "    <tr>\n",
              "      <th>27</th>\n",
              "      <td>28358</td>\n",
              "      <td>PROFESSOR EDUCACAO BASICA II</td>\n",
              "      <td>EDUCACAO</td>\n",
              "      <td>1306970</td>\n",
              "      <td>0.0</td>\n",
              "      <td>0.0</td>\n",
              "      <td>0.0</td>\n",
              "      <td>118300.00</td>\n",
              "      <td>0.0</td>\n",
              "      <td>1320720.0</td>\n",
              "    </tr>\n",
              "    <tr>\n",
              "      <th>28</th>\n",
              "      <td>28359</td>\n",
              "      <td>PROFESSOR EDUCACAO BASICA II</td>\n",
              "      <td>EDUCACAO</td>\n",
              "      <td>3009160</td>\n",
              "      <td>0.0</td>\n",
              "      <td>0.0</td>\n",
              "      <td>0.0</td>\n",
              "      <td>140640.00</td>\n",
              "      <td>0.0</td>\n",
              "      <td>2750190.0</td>\n",
              "    </tr>\n",
              "    <tr>\n",
              "      <th>29</th>\n",
              "      <td>28361</td>\n",
              "      <td>PROFESSOR EDUCACAO BASICA II</td>\n",
              "      <td>EDUCACAO</td>\n",
              "      <td>2206730</td>\n",
              "      <td>0.0</td>\n",
              "      <td>0.0</td>\n",
              "      <td>0.0</td>\n",
              "      <td>148930.00</td>\n",
              "      <td>0.0</td>\n",
              "      <td>1988290.0</td>\n",
              "    </tr>\n",
              "  </tbody>\n",
              "</table>\n",
              "</div>"
            ],
            "text/plain": [
              "       Id                            job  ... discount_salary  total_salary\n",
              "0   28316    PROFESSOR EDUCACAO BASICA I  ...             0.0     2976200.0\n",
              "1   28317    PROFESSOR EDUCACAO BASICA I  ...             0.0     1991060.0\n",
              "2   28319   PROFESSOR EDUCACAO BASICA II  ...             0.0     1496730.0\n",
              "3   28320   PROFESSOR EDUCACAO BASICA II  ...             0.0     2091770.0\n",
              "4   28321   PROFESSOR EDUCACAO BASICA II  ...             0.0     1493070.0\n",
              "5   28322  AGENTE DE ORGANIZACAO ESCOLAR  ...             0.0     7069420.0\n",
              "6   28323   PROFESSOR EDUCACAO BASICA II  ...             0.0      959480.0\n",
              "7   28324  AGENTE DE ORGANIZACAO ESCOLAR  ...             0.0     2963800.0\n",
              "8   28325              AUXILIAR DE SAUDE  ...             0.0     1528740.0\n",
              "9   28326   PROFESSOR EDUCACAO BASICA II  ...             0.0     2645220.0\n",
              "10  28327   PROFESSOR EDUCACAO BASICA II  ...             0.0      875420.0\n",
              "11  28328   PROFESSOR EDUCACAO BASICA II  ...             0.0     2656070.0\n",
              "12  28329    PROFESSOR EDUCACAO BASICA I  ...             0.0     2246300.0\n",
              "13  28330    PROFESSOR EDUCACAO BASICA I  ...             0.0     2252850.0\n",
              "14  28332   PROFESSOR EDUCACAO BASICA II  ...             0.0     3273790.0\n",
              "15  28333    PROFESSOR EDUCACAO BASICA I  ...             0.0     1946250.0\n",
              "16  28334     DIRETOR TECNICO DE SAUDE I  ...             0.0     6764820.0\n",
              "17  28335    PROFESSOR EDUCACAO BASICA I  ...             0.0     1840890.0\n",
              "18  28336   PROFESSOR EDUCACAO BASICA II  ...             0.0      902610.0\n",
              "19  28337   PROFESSOR EDUCACAO BASICA II  ...             0.0     4333490.0\n",
              "20  28340   PROFESSOR EDUCACAO BASICA II  ...             0.0     3021960.0\n",
              "21  28343    PROFESSOR EDUCACAO BASICA I  ...             0.0     1942250.0\n",
              "22  28344              DIRETOR DE ESCOLA  ...             0.0     3757420.0\n",
              "23  28347   PROFESSOR EDUCACAO BASICA II  ...             0.0     2263800.0\n",
              "24  28351    PROFESSOR EDUCACAO BASICA I  ...             0.0     2538000.0\n",
              "25  28352   PROFESSOR EDUCACAO BASICA II  ...             0.0     2252900.0\n",
              "26  28353  AGENTE DE ORGANIZACAO ESCOLAR  ...             0.0     1336770.0\n",
              "27  28358   PROFESSOR EDUCACAO BASICA II  ...             0.0     1320720.0\n",
              "28  28359   PROFESSOR EDUCACAO BASICA II  ...             0.0     2750190.0\n",
              "29  28361   PROFESSOR EDUCACAO BASICA II  ...             0.0     1988290.0\n",
              "\n",
              "[30 rows x 10 columns]"
            ]
          },
          "metadata": {
            "tags": []
          },
          "execution_count": 69
        }
      ]
    },
    {
      "cell_type": "code",
      "metadata": {
        "id": "QL1L36JE_9zW",
        "colab_type": "code",
        "outputId": "e877fa25-9ec2-476b-9f0f-efb111fce539",
        "colab": {
          "base_uri": "https://localhost:8080/",
          "height": 104
        }
      },
      "source": [
        "dados.sector.value_counts()"
      ],
      "execution_count": 0,
      "outputs": [
        {
          "output_type": "execute_result",
          "data": {
            "text/plain": [
              "EDUCACAO    8535\n",
              "SAUDE       1441\n",
              "UNIVESP       15\n",
              "JUSTICA        8\n",
              "Name: sector, dtype: int64"
            ]
          },
          "metadata": {
            "tags": []
          },
          "execution_count": 70
        }
      ]
    },
    {
      "cell_type": "code",
      "metadata": {
        "id": "G-VZ0nq2BgOv",
        "colab_type": "code",
        "outputId": "2df9ca14-1878-43af-deb2-d6b98938424f",
        "colab": {
          "base_uri": "https://localhost:8080/",
          "height": 225
        }
      },
      "source": [
        "dados.job.value_counts()"
      ],
      "execution_count": 0,
      "outputs": [
        {
          "output_type": "execute_result",
          "data": {
            "text/plain": [
              "PROFESSOR EDUCACAO BASICA II     5146\n",
              "PROFESSOR EDUCACAO BASICA I      1763\n",
              "AGENTE DE ORGANIZACAO ESCOLAR    1104\n",
              "AUXILIAR DE ENFERMAGEM            259\n",
              "OFICIAL ADMINISTRATIVO            169\n",
              "                                 ... \n",
              "ENGENHEIRO V                        1\n",
              "AUXILIAR DE RADIOLOGIA              1\n",
              "ANALISTA DE SISTEMAS                1\n",
              "DESIGNER DE ARTE FINALISTA          1\n",
              "ASSESSOR TECN.COORD.SAUDE           1\n",
              "Name: job, Length: 80, dtype: int64"
            ]
          },
          "metadata": {
            "tags": []
          },
          "execution_count": 72
        }
      ]
    },
    {
      "cell_type": "code",
      "metadata": {
        "id": "HBAjo1iSBuas",
        "colab_type": "code",
        "outputId": "e0264691-2e3c-4512-f6ea-b80040137c1e",
        "colab": {
          "base_uri": "https://localhost:8080/",
          "height": 202
        }
      },
      "source": [
        "dados[(dados['sector']=='SAUDE') & (dados['job']=='OFICIAL ADMINISTRATIVO')].head(5)"
      ],
      "execution_count": 0,
      "outputs": [
        {
          "output_type": "execute_result",
          "data": {
            "text/html": [
              "<div>\n",
              "<style scoped>\n",
              "    .dataframe tbody tr th:only-of-type {\n",
              "        vertical-align: middle;\n",
              "    }\n",
              "\n",
              "    .dataframe tbody tr th {\n",
              "        vertical-align: top;\n",
              "    }\n",
              "\n",
              "    .dataframe thead th {\n",
              "        text-align: right;\n",
              "    }\n",
              "</style>\n",
              "<table border=\"1\" class=\"dataframe\">\n",
              "  <thead>\n",
              "    <tr style=\"text-align: right;\">\n",
              "      <th></th>\n",
              "      <th>Id</th>\n",
              "      <th>job</th>\n",
              "      <th>sector</th>\n",
              "      <th>Month_salary</th>\n",
              "      <th>13_salary</th>\n",
              "      <th>eventual_salary</th>\n",
              "      <th>indemnity</th>\n",
              "      <th>extra_salary</th>\n",
              "      <th>discount_salary</th>\n",
              "      <th>total_salary</th>\n",
              "    </tr>\n",
              "  </thead>\n",
              "  <tbody>\n",
              "    <tr>\n",
              "      <th>352</th>\n",
              "      <td>28853</td>\n",
              "      <td>OFICIAL ADMINISTRATIVO</td>\n",
              "      <td>SAUDE</td>\n",
              "      <td>3137480</td>\n",
              "      <td>32500.0</td>\n",
              "      <td>1252270.0</td>\n",
              "      <td>0.0</td>\n",
              "      <td>146090.0</td>\n",
              "      <td>0.0</td>\n",
              "      <td>3717110.0</td>\n",
              "    </tr>\n",
              "    <tr>\n",
              "      <th>379</th>\n",
              "      <td>28892</td>\n",
              "      <td>OFICIAL ADMINISTRATIVO</td>\n",
              "      <td>SAUDE</td>\n",
              "      <td>3414400</td>\n",
              "      <td>0.0</td>\n",
              "      <td>0.0</td>\n",
              "      <td>0.0</td>\n",
              "      <td>166670.0</td>\n",
              "      <td>0.0</td>\n",
              "      <td>2163440.0</td>\n",
              "    </tr>\n",
              "    <tr>\n",
              "      <th>578</th>\n",
              "      <td>29183</td>\n",
              "      <td>OFICIAL ADMINISTRATIVO</td>\n",
              "      <td>SAUDE</td>\n",
              "      <td>2490050</td>\n",
              "      <td>0.0</td>\n",
              "      <td>0.0</td>\n",
              "      <td>0.0</td>\n",
              "      <td>0.0</td>\n",
              "      <td>0.0</td>\n",
              "      <td>2099490.0</td>\n",
              "    </tr>\n",
              "    <tr>\n",
              "      <th>580</th>\n",
              "      <td>29187</td>\n",
              "      <td>OFICIAL ADMINISTRATIVO</td>\n",
              "      <td>SAUDE</td>\n",
              "      <td>2432560</td>\n",
              "      <td>0.0</td>\n",
              "      <td>0.0</td>\n",
              "      <td>0.0</td>\n",
              "      <td>215470.0</td>\n",
              "      <td>0.0</td>\n",
              "      <td>2324510.0</td>\n",
              "    </tr>\n",
              "    <tr>\n",
              "      <th>666</th>\n",
              "      <td>29308</td>\n",
              "      <td>OFICIAL ADMINISTRATIVO</td>\n",
              "      <td>SAUDE</td>\n",
              "      <td>1726260</td>\n",
              "      <td>0.0</td>\n",
              "      <td>0.0</td>\n",
              "      <td>0.0</td>\n",
              "      <td>0.0</td>\n",
              "      <td>0.0</td>\n",
              "      <td>1290940.0</td>\n",
              "    </tr>\n",
              "  </tbody>\n",
              "</table>\n",
              "</div>"
            ],
            "text/plain": [
              "        Id                     job  ... discount_salary  total_salary\n",
              "352  28853  OFICIAL ADMINISTRATIVO  ...             0.0     3717110.0\n",
              "379  28892  OFICIAL ADMINISTRATIVO  ...             0.0     2163440.0\n",
              "578  29183  OFICIAL ADMINISTRATIVO  ...             0.0     2099490.0\n",
              "580  29187  OFICIAL ADMINISTRATIVO  ...             0.0     2324510.0\n",
              "666  29308  OFICIAL ADMINISTRATIVO  ...             0.0     1290940.0\n",
              "\n",
              "[5 rows x 10 columns]"
            ]
          },
          "metadata": {
            "tags": []
          },
          "execution_count": 75
        }
      ]
    },
    {
      "cell_type": "code",
      "metadata": {
        "id": "3HyFmhvSCm-U",
        "colab_type": "code",
        "colab": {}
      },
      "source": [
        "dados['total_salario'] = dados['Month_salary'] + dados['extra_salary']"
      ],
      "execution_count": 0,
      "outputs": []
    },
    {
      "cell_type": "code",
      "metadata": {
        "id": "RI4E5b6yFnCp",
        "colab_type": "code",
        "outputId": "f4d6845d-bd9b-4922-8ff5-51c4b1515d22",
        "colab": {
          "base_uri": "https://localhost:8080/",
          "height": 245
        }
      },
      "source": [
        "dados.head(3)"
      ],
      "execution_count": 0,
      "outputs": [
        {
          "output_type": "execute_result",
          "data": {
            "text/html": [
              "<div>\n",
              "<style scoped>\n",
              "    .dataframe tbody tr th:only-of-type {\n",
              "        vertical-align: middle;\n",
              "    }\n",
              "\n",
              "    .dataframe tbody tr th {\n",
              "        vertical-align: top;\n",
              "    }\n",
              "\n",
              "    .dataframe thead th {\n",
              "        text-align: right;\n",
              "    }\n",
              "</style>\n",
              "<table border=\"1\" class=\"dataframe\">\n",
              "  <thead>\n",
              "    <tr style=\"text-align: right;\">\n",
              "      <th></th>\n",
              "      <th>Id</th>\n",
              "      <th>job</th>\n",
              "      <th>sector</th>\n",
              "      <th>Month_salary</th>\n",
              "      <th>13_salary</th>\n",
              "      <th>eventual_salary</th>\n",
              "      <th>indemnity</th>\n",
              "      <th>extra_salary</th>\n",
              "      <th>discount_salary</th>\n",
              "      <th>total_salary</th>\n",
              "      <th>total_salario</th>\n",
              "    </tr>\n",
              "  </thead>\n",
              "  <tbody>\n",
              "    <tr>\n",
              "      <th>0</th>\n",
              "      <td>28316</td>\n",
              "      <td>PROFESSOR EDUCACAO BASICA I</td>\n",
              "      <td>EDUCACAO</td>\n",
              "      <td>3559250</td>\n",
              "      <td>0.0</td>\n",
              "      <td>0.0</td>\n",
              "      <td>0.0</td>\n",
              "      <td>0.0</td>\n",
              "      <td>0.0</td>\n",
              "      <td>2976200.0</td>\n",
              "      <td>3559250.0</td>\n",
              "    </tr>\n",
              "    <tr>\n",
              "      <th>1</th>\n",
              "      <td>28317</td>\n",
              "      <td>PROFESSOR EDUCACAO BASICA I</td>\n",
              "      <td>EDUCACAO</td>\n",
              "      <td>2538670</td>\n",
              "      <td>0.0</td>\n",
              "      <td>0.0</td>\n",
              "      <td>0.0</td>\n",
              "      <td>109870.0</td>\n",
              "      <td>0.0</td>\n",
              "      <td>1991060.0</td>\n",
              "      <td>2648540.0</td>\n",
              "    </tr>\n",
              "    <tr>\n",
              "      <th>2</th>\n",
              "      <td>28319</td>\n",
              "      <td>PROFESSOR EDUCACAO BASICA II</td>\n",
              "      <td>EDUCACAO</td>\n",
              "      <td>2790340</td>\n",
              "      <td>0.0</td>\n",
              "      <td>0.0</td>\n",
              "      <td>0.0</td>\n",
              "      <td>0.0</td>\n",
              "      <td>0.0</td>\n",
              "      <td>1496730.0</td>\n",
              "      <td>2790340.0</td>\n",
              "    </tr>\n",
              "  </tbody>\n",
              "</table>\n",
              "</div>"
            ],
            "text/plain": [
              "      Id                           job  ... total_salary  total_salario\n",
              "0  28316   PROFESSOR EDUCACAO BASICA I  ...    2976200.0      3559250.0\n",
              "1  28317   PROFESSOR EDUCACAO BASICA I  ...    1991060.0      2648540.0\n",
              "2  28319  PROFESSOR EDUCACAO BASICA II  ...    1496730.0      2790340.0\n",
              "\n",
              "[3 rows x 11 columns]"
            ]
          },
          "metadata": {
            "tags": []
          },
          "execution_count": 77
        }
      ]
    },
    {
      "cell_type": "code",
      "metadata": {
        "id": "-G6AThp2FqU4",
        "colab_type": "code",
        "colab": {}
      },
      "source": [
        "dados.drop(columns='total_salario', axis=1, inplace=True)"
      ],
      "execution_count": 0,
      "outputs": []
    },
    {
      "cell_type": "code",
      "metadata": {
        "id": "wFXNqIPmGzsh",
        "colab_type": "code",
        "colab": {
          "base_uri": "https://localhost:8080/",
          "height": 289
        },
        "outputId": "91fc4ad3-4895-4e10-dd84-636e9335ab5f"
      },
      "source": [
        "dados.head()"
      ],
      "execution_count": 83,
      "outputs": [
        {
          "output_type": "execute_result",
          "data": {
            "text/html": [
              "<div>\n",
              "<style scoped>\n",
              "    .dataframe tbody tr th:only-of-type {\n",
              "        vertical-align: middle;\n",
              "    }\n",
              "\n",
              "    .dataframe tbody tr th {\n",
              "        vertical-align: top;\n",
              "    }\n",
              "\n",
              "    .dataframe thead th {\n",
              "        text-align: right;\n",
              "    }\n",
              "</style>\n",
              "<table border=\"1\" class=\"dataframe\">\n",
              "  <thead>\n",
              "    <tr style=\"text-align: right;\">\n",
              "      <th></th>\n",
              "      <th>Id</th>\n",
              "      <th>job</th>\n",
              "      <th>sector</th>\n",
              "      <th>Month_salary</th>\n",
              "      <th>13_salary</th>\n",
              "      <th>eventual_salary</th>\n",
              "      <th>indemnity</th>\n",
              "      <th>extra_salary</th>\n",
              "      <th>discount_salary</th>\n",
              "      <th>total_salary</th>\n",
              "    </tr>\n",
              "  </thead>\n",
              "  <tbody>\n",
              "    <tr>\n",
              "      <th>0</th>\n",
              "      <td>28316</td>\n",
              "      <td>PROFESSOR EDUCACAO BASICA I</td>\n",
              "      <td>EDUCACAO</td>\n",
              "      <td>3559250</td>\n",
              "      <td>0.0</td>\n",
              "      <td>0.0</td>\n",
              "      <td>0.0</td>\n",
              "      <td>0.0</td>\n",
              "      <td>0.0</td>\n",
              "      <td>2976200.0</td>\n",
              "    </tr>\n",
              "    <tr>\n",
              "      <th>1</th>\n",
              "      <td>28317</td>\n",
              "      <td>PROFESSOR EDUCACAO BASICA I</td>\n",
              "      <td>EDUCACAO</td>\n",
              "      <td>2538670</td>\n",
              "      <td>0.0</td>\n",
              "      <td>0.0</td>\n",
              "      <td>0.0</td>\n",
              "      <td>109870.0</td>\n",
              "      <td>0.0</td>\n",
              "      <td>1991060.0</td>\n",
              "    </tr>\n",
              "    <tr>\n",
              "      <th>2</th>\n",
              "      <td>28319</td>\n",
              "      <td>PROFESSOR EDUCACAO BASICA II</td>\n",
              "      <td>EDUCACAO</td>\n",
              "      <td>2790340</td>\n",
              "      <td>0.0</td>\n",
              "      <td>0.0</td>\n",
              "      <td>0.0</td>\n",
              "      <td>0.0</td>\n",
              "      <td>0.0</td>\n",
              "      <td>1496730.0</td>\n",
              "    </tr>\n",
              "    <tr>\n",
              "      <th>3</th>\n",
              "      <td>28320</td>\n",
              "      <td>PROFESSOR EDUCACAO BASICA II</td>\n",
              "      <td>EDUCACAO</td>\n",
              "      <td>3867060</td>\n",
              "      <td>0.0</td>\n",
              "      <td>0.0</td>\n",
              "      <td>0.0</td>\n",
              "      <td>0.0</td>\n",
              "      <td>0.0</td>\n",
              "      <td>2091770.0</td>\n",
              "    </tr>\n",
              "    <tr>\n",
              "      <th>4</th>\n",
              "      <td>28321</td>\n",
              "      <td>PROFESSOR EDUCACAO BASICA II</td>\n",
              "      <td>EDUCACAO</td>\n",
              "      <td>1751490</td>\n",
              "      <td>6030.0</td>\n",
              "      <td>82080.0</td>\n",
              "      <td>0.0</td>\n",
              "      <td>47030.0</td>\n",
              "      <td>0.0</td>\n",
              "      <td>1493070.0</td>\n",
              "    </tr>\n",
              "  </tbody>\n",
              "</table>\n",
              "</div>"
            ],
            "text/plain": [
              "      Id                           job  ... discount_salary  total_salary\n",
              "0  28316   PROFESSOR EDUCACAO BASICA I  ...             0.0     2976200.0\n",
              "1  28317   PROFESSOR EDUCACAO BASICA I  ...             0.0     1991060.0\n",
              "2  28319  PROFESSOR EDUCACAO BASICA II  ...             0.0     1496730.0\n",
              "3  28320  PROFESSOR EDUCACAO BASICA II  ...             0.0     2091770.0\n",
              "4  28321  PROFESSOR EDUCACAO BASICA II  ...             0.0     1493070.0\n",
              "\n",
              "[5 rows x 10 columns]"
            ]
          },
          "metadata": {
            "tags": []
          },
          "execution_count": 83
        }
      ]
    },
    {
      "cell_type": "code",
      "metadata": {
        "id": "6sWudryrHAkO",
        "colab_type": "code",
        "colab": {}
      },
      "source": [
        "dados.drop(columns='indemnity', axis=1, inplace=True)"
      ],
      "execution_count": 0,
      "outputs": []
    },
    {
      "cell_type": "code",
      "metadata": {
        "id": "XAEv5o7MHa-l",
        "colab_type": "code",
        "colab": {}
      },
      "source": [
        ""
      ],
      "execution_count": 0,
      "outputs": []
    }
  ]
}